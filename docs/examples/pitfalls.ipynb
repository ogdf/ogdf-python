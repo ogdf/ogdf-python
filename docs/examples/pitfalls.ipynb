{
 "cells": [
  {
   "cell_type": "code",
   "execution_count": 12,
   "metadata": {},
   "outputs": [],
   "source": [
    "# %env OGDF_BUILD_DIR=~/ogdf/build-debug # uncomment if you didn't set this globally\n",
    "from ogdf_python import ogdf, cppinclude"
   ]
  },
  {
   "cell_type": "code",
   "execution_count": null,
   "metadata": {},
   "outputs": [],
   "source": [
    "cppinclude(\"ogdf/layered/SugiyamaLayout.h\")\n",
    "cppinclude(\"ogdf/layered/MedianHeuristic.h\")\n",
    "cppinclude(\"ogdf/layered/OptimalHierarchyLayout.h\")\n",
    "cppinclude(\"ogdf/layered/OptimalRanking.h\")\n",
    "\n",
    "SL = ogdf.SugiyamaLayout()\n",
    "r = ogdf.OptimalRanking()\n",
    "r.__python_owns__ = False # ogdf modules take ownership of objects, conflicting with cppyy clean-up\n",
    "SL.setRanking(r)\n",
    "h = ogdf.MedianHeuristic()\n",
    "h.__python_owns__ = False\n",
    "SL.setCrossMin(h)\n",
    "\n",
    "ohl = ogdf.OptimalHierarchyLayout()\n",
    "ohl.__python_owns__ = False\n",
    "ohl.layerDistance(30.0)\n",
    "ohl.nodeDistance(25.0)\n",
    "ohl.weightBalancing(0.8)\n",
    "SL.setLayout(ohl)"
   ]
  },
  {
   "cell_type": "code",
   "execution_count": 7,
   "metadata": {},
   "outputs": [],
   "source": [
    "from itertools import count\n",
    "for i in count(5):\n",
    "    CGA = CG = G = None # deletion order is important when overwriting parents of dependant objects\n",
    "    G = ogdf.Graph()\n",
    "    CG = ogdf.ClusterGraph(G)\n",
    "    CGA = ogdf.ClusterGraphAttributes(CG, ogdf.ClusterGraphAttributes.all)"
   ]
  }
 ],
 "metadata": {
  "kernelspec": {
   "display_name": "ogdf-python",
   "language": "python",
   "name": "ogdf-python"
  },
  "language_info": {
   "codemirror_mode": {
    "name": "ipython",
    "version": 3
   },
   "file_extension": ".py",
   "mimetype": "text/x-python",
   "name": "python",
   "nbconvert_exporter": "python",
   "pygments_lexer": "ipython3",
   "version": "3.8.5"
  }
 },
 "nbformat": 4,
 "nbformat_minor": 4
}