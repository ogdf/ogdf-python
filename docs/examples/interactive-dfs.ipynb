{
 "cells": [
  {
   "cell_type": "code",
   "execution_count": null,
   "id": "stone-mobility",
   "metadata": {},
   "outputs": [],
   "source": [
    "# This cell generates a random graph for the DFS to run on.\n",
    "\n",
    "import cppyy\n",
    "\n",
    "# %env OGDF_BUILD_DIR=~/ogdf/build-debug\n",
    "# uncomment if you didn't set this globally\n",
    "from ogdf_python import ogdf, cppinclude\n",
    "\n",
    "cppinclude(\"ogdf/basic/graph_generators/randomized.h\")\n",
    "cppinclude(\"ogdf/layered/SugiyamaLayout.h\")\n",
    "null_node = cppyy.bind_object(cppyy.nullptr, 'ogdf::NodeElement')\n",
    "\n",
    "G = ogdf.Graph()\n",
    "ogdf.setSeed(1)\n",
    "ogdf.randomPlanarTriconnectedGraph(G, 10, 20)\n",
    "GA = ogdf.GraphAttributes(G, ogdf.GraphAttributes.all)\n",
    "GA.directed = True\n",
    "\n",
    "SL = ogdf.SugiyamaLayout()\n",
    "SL.call(GA)\n",
    "GA.rotateRight90()"
   ]
  },
  {
   "cell_type": "code",
   "execution_count": null,
   "id": "environmental-fusion",
   "metadata": {},
   "outputs": [],
   "source": [
    "# This is the main DFS code. Compare it with the slides from the lecture!\n",
    "\n",
    "def dfs(G):\n",
    "    # NodeArrays are used to store information \"labelling\" individual nodes\n",
    "    discovery = ogdf.NodeArray[int](G, -1)\n",
    "    finish = ogdf.NodeArray[int](G, -1)\n",
    "    predecessor = ogdf.NodeArray[\"ogdf::node\"](G, null_node)\n",
    "    \n",
    "    time = 0\n",
    "    \n",
    "    def dfs_visit(u):\n",
    "        nonlocal time # (we need to overwrite this variable from the parent function)\n",
    "\n",
    "        time += 1\n",
    "        discovery[u] = time\n",
    "        # yield stops the execution of our method and passes the variables to our caller\n",
    "        yield u, discovery, finish, predecessor\n",
    "        # the code will continue here the next time `next(it)` is called\n",
    "\n",
    "        for adj in u.adjEntries:\n",
    "            v = adj.twinNode()\n",
    "            if adj.isSource() and discovery[v] < 0:\n",
    "                predecessor[v] = u\n",
    "                # yield from simply \"copies over\" all yield statements from the called method\n",
    "                yield from dfs_visit(v)\n",
    "\n",
    "        time += 1\n",
    "        finish[u] = time\n",
    "        # yield again to report the state after\n",
    "        yield u, discovery, finish, predecessor\n",
    "    \n",
    "    for node in G.nodes:\n",
    "        if discovery[node] < 0:\n",
    "            yield from dfs_visit(node)"
   ]
  },
  {
   "cell_type": "code",
   "execution_count": null,
   "id": "productive-control",
   "metadata": {},
   "outputs": [],
   "source": [
    "# This cell (re-)starts the DFS and (re-)initializes the drawing of the graph\n",
    "\n",
    "last = None\n",
    "for u in G.nodes:\n",
    "    GA.label[u] = \"\"\n",
    "    GA.strokeColor[u] = ogdf.Color(230, 230, 230)\n",
    "    GA.width[u] = 40\n",
    "    GA.fillColor[u] = ogdf.Color(ogdf.Color.Name.White)\n",
    "for e in G.edges:\n",
    "    GA.strokeColor[e] = ogdf.Color(150, 150, 150)\n",
    "it = dfs(G)\n",
    "GA"
   ]
  },
  {
   "cell_type": "code",
   "execution_count": null,
   "id": "representative-edwards",
   "metadata": {
    "pycharm": {
     "name": "#%%\n"
    }
   },
   "outputs": [],
   "source": [
    "# This method executes one DFS step and then visualizes the current state\n",
    "\n",
    "def make_step():\n",
    "    global it, last\n",
    "    try:\n",
    "        # !!! This is the important line:\n",
    "        u, discovery, finish, predecessor = next(it)\n",
    "        # All the following code is just for updating the visualisation\n",
    "        d = discovery[u]\n",
    "        f = finish[u]\n",
    "        GA.label[u] = \"(%s, %s)\" % (d, f)\n",
    "        print(GA.label[u])\n",
    "\n",
    "        if f < 0:\n",
    "            GA.strokeColor[u] = ogdf.Color(150, 150, 150)\n",
    "        else:\n",
    "            GA.strokeColor[u] = ogdf.Color(0, 0, 0)\n",
    "\n",
    "        for adj in u.adjEntries:\n",
    "            e = adj.theEdge()\n",
    "            ds = discovery[e.source()]\n",
    "            fs = finish[e.source()]\n",
    "            dt = discovery[e.target()]\n",
    "            ft = finish[e.target()]\n",
    "\n",
    "            if ds < 0:\n",
    "                continue\n",
    "            elif predecessor[e.target()] == e.source():\n",
    "                GA.strokeColor[e] = ogdf.Color(ogdf.Color.Name.Darkblue)\n",
    "            elif dt >= 0 and dt < ds:\n",
    "                if ft >= 0 and fs > ft:\n",
    "                    GA.strokeColor[e] = ogdf.Color(ogdf.Color.Name.Pink) # FIXME\n",
    "                else:\n",
    "                    GA.strokeColor[e] = ogdf.Color(ogdf.Color.Name.Lightgreen)\n",
    "            elif ds < dt:\n",
    "                GA.strokeColor[e] = ogdf.Color(ogdf.Color.Name.Lightblue)\n",
    "\n",
    "        if last is not None:\n",
    "            GA.fillColor[last] = ogdf.Color(255,255,255)\n",
    "        GA.fillColor[u] = ogdf.Color(ogdf.Color.Name.Lightpink)\n",
    "        last = u\n",
    "\n",
    "    except StopIteration as e:\n",
    "        print(\"done\", e.args)\n",
    "    return GA"
   ]
  },
  {
   "cell_type": "code",
   "execution_count": null,
   "id": "right-scientist",
   "metadata": {
    "jupyter": {
     "outputs_hidden": false
    },
    "pycharm": {
     "name": "#%%\n"
    }
   },
   "outputs": [],
   "source": [
    "make_step()\n",
    "\n",
    "# You can also run this cell multiple times to see the graph being updated\n",
    "# For the static version of this notebook I included the next steps separately"
   ]
  },
  {
   "cell_type": "code",
   "execution_count": null,
   "id": "taken-topic",
   "metadata": {
    "jupyter": {
     "outputs_hidden": false
    },
    "pycharm": {
     "name": "#%%\n"
    }
   },
   "outputs": [],
   "source": [
    "make_step()"
   ]
  },
  {
   "cell_type": "code",
   "execution_count": null,
   "id": "clinical-assignment",
   "metadata": {
    "jupyter": {
     "outputs_hidden": false
    },
    "pycharm": {
     "name": "#%%\n"
    }
   },
   "outputs": [],
   "source": [
    "make_step()"
   ]
  },
  {
   "cell_type": "code",
   "execution_count": null,
   "id": "universal-anaheim",
   "metadata": {
    "jupyter": {
     "outputs_hidden": false
    },
    "pycharm": {
     "name": "#%%\n"
    }
   },
   "outputs": [],
   "source": [
    "make_step()"
   ]
  },
  {
   "cell_type": "code",
   "execution_count": null,
   "id": "white-klein",
   "metadata": {
    "jupyter": {
     "outputs_hidden": false
    },
    "pycharm": {
     "name": "#%%\n"
    }
   },
   "outputs": [],
   "source": [
    "make_step()"
   ]
  },
  {
   "cell_type": "code",
   "execution_count": null,
   "id": "balanced-barrel",
   "metadata": {
    "jupyter": {
     "outputs_hidden": false
    },
    "pycharm": {
     "name": "#%%\n"
    }
   },
   "outputs": [],
   "source": [
    "make_step()"
   ]
  },
  {
   "cell_type": "code",
   "execution_count": null,
   "id": "conditional-disability",
   "metadata": {
    "jupyter": {
     "outputs_hidden": false
    },
    "pycharm": {
     "name": "#%%\n"
    }
   },
   "outputs": [],
   "source": [
    "make_step()"
   ]
  },
  {
   "cell_type": "code",
   "execution_count": null,
   "id": "greenhouse-cincinnati",
   "metadata": {
    "jupyter": {
     "outputs_hidden": false
    },
    "pycharm": {
     "name": "#%%\n"
    }
   },
   "outputs": [],
   "source": [
    "make_step()"
   ]
  },
  {
   "cell_type": "code",
   "execution_count": null,
   "id": "8527db6e-3672-47e4-a188-8055af8738f8",
   "metadata": {},
   "outputs": [],
   "source": [
    "help(G)\n"
   ]
  },
  {
   "cell_type": "code",
   "execution_count": null,
   "id": "121c3f1f-05fd-4646-bbb9-28a8bb4e68a0",
   "metadata": {},
   "outputs": [],
   "source": [
    "from dfs_widget import DFSWidget\n",
    "import ipywidgets as widgets\n",
    "\n",
    "dfs = DFSWidget()\n",
    "\n",
    "play = widgets.Play(max=G.numberOfNodes() * 2, interval=1000)\n",
    "slider = widgets.IntSlider()\n",
    "widgets.jslink((play, 'value'), (slider, 'value'))\n",
    "slider.observe(dfs.change_step)\n",
    "\n",
    "button = widgets.Button(description='New Graph')\n",
    "button.on_click(dfs.random_graph)\n",
    "\n",
    "display(widgets.VBox([\n",
    "    widgets.HBox([play, slider, button]),\n",
    "    dfs\n",
    "])"
   ]
  }
 ],
 "metadata": {
  "kernelspec": {
   "display_name": "ogdf-python",
   "language": "python",
   "name": "ogdf-python"
  },
  "language_info": {
   "codemirror_mode": {
    "name": "ipython",
    "version": 3
   },
   "file_extension": ".py",
   "mimetype": "text/x-python",
   "name": "python",
   "nbconvert_exporter": "python",
   "pygments_lexer": "ipython3",
   "version": "3.11.4"
  }
 },
 "nbformat": 4,
 "nbformat_minor": 5
}
