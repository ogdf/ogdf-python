{
 "cells": [
  {
   "cell_type": "code",
   "execution_count": null,
   "id": "0e5593ca-a5ce-48ba-89df-b52dffeffa3b",
   "metadata": {
    "ExecuteTime": {
     "end_time": "2023-09-01T18:15:47.288478779Z",
     "start_time": "2023-09-01T18:15:41.848409531Z"
    }
   },
   "outputs": [],
   "source": [
    "%matplotlib widget\n",
    "\n",
    "from ogdf_python import *\n",
    "from ogdf_python.matplotlib import *\n",
    "import matplotlib.pyplot as plt\n",
    "\n",
    "cppinclude(\"ogdf/basic/graph_generators/randomized.h\")\n",
    "cppinclude(\"ogdf/layered/SugiyamaLayout.h\")\n",
    "\n",
    "G = ogdf.Graph()\n",
    "ogdf.setSeed(1)\n",
    "ogdf.randomPlanarTriconnectedGraph(G, 20, 40)\n",
    "GA = ogdf.GraphAttributes(G, ogdf.GraphAttributes.all)\n",
    "\n",
    "for n in G.nodes:\n",
    "    GA.label[n] = \"N%s\" % n.index()\n",
    "\n",
    "SL = ogdf.SugiyamaLayout()\n",
    "SL.call(GA)"
   ]
  },
  {
   "cell_type": "code",
   "execution_count": null,
   "id": "262f5725-0d97-4c41-ab61-c199e6aca3fa",
   "metadata": {},
   "outputs": [],
   "source": [
    "# for i in range(10):\n",
    "#     GA.width[G.nodes[i]] = i * 10\n",
    "#     GA.height[G.nodes[i]] = i * 10\n",
    "#     GA.shape[G.nodes[i]] = i\n",
    "#     GA.strokeColor[G.nodes[i]] = ogdf.Color(ogdf.Color.Name(i))\n",
    "#     GA.fillColor[G.nodes[i]] = ogdf.Color(ogdf.Color.Name(i+10))\n",
    "#     GA.fillPattern[G.nodes[i]] = i\n",
    "# GA.shape[G.nodes[11]] = ogdf.Shape.RoundedRect\n",
    "# GA.width[G.nodes[11]] = 100\n",
    "# GA.height[G.nodes[11]] = 100"
   ]
  },
  {
   "cell_type": "code",
   "execution_count": null,
   "id": "f1651592-571c-4c3e-a5e0-93c550fe7031",
   "metadata": {},
   "outputs": [],
   "source": [
    "GE = GraphEditorLayout(GA)\n",
    "display(GE)\n",
    "# click so select a node or edge\n",
    "# [del] deletes the selected object\n",
    "# [ctrl]+click on a node while another node is selected adds an edge\n",
    "# double click on the background adds a node"
   ]
  },
  {
   "cell_type": "code",
   "execution_count": null,
   "id": "1e3024be-8228-4f94-b831-1037b3904b8b",
   "metadata": {},
   "outputs": [],
   "source": [
    "# oldpoints = None\n",
    "\n",
    "# def click(event):\n",
    "#     global oldpoints\n",
    "#     x = ogdf.DPoint(event.xdata, event.ydata)\n",
    "#     out = ogdf.DPoint()\n",
    "#     xs = []\n",
    "#     ys = []\n",
    "#     for ea in GE.widget.edges.values():\n",
    "#         d = ogdf.closestPointOnLine(ea.poly, x, out)\n",
    "#         xs.append(out.m_x)\n",
    "#         ys.append(out.m_y)\n",
    "#         # print(ea.edge.index(), d)\n",
    "#     if oldpoints:\n",
    "#         oldpoints[0].remove()\n",
    "#     oldpoints = plt.plot(xs, ys, 'ro', zorder=500)\n",
    "\n",
    "# GE.widget.on_background_click = click"
   ]
  }
 ],
 "metadata": {
  "kernelspec": {
   "display_name": "Python 3 (ipykernel)",
   "language": "python",
   "name": "python3"
  },
  "language_info": {
   "codemirror_mode": {
    "name": "ipython",
    "version": 3
   },
   "file_extension": ".py",
   "mimetype": "text/x-python",
   "name": "python",
   "nbconvert_exporter": "python",
   "pygments_lexer": "ipython3",
   "version": "3.11.5"
  }
 },
 "nbformat": 4,
 "nbformat_minor": 5
}
