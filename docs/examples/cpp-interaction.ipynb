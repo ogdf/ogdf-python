{
 "cells": [
  {
   "cell_type": "code",
   "execution_count": null,
   "id": "twelve-loading",
   "metadata": {
    "execution": {
     "iopub.execute_input": "2021-09-14T12:12:14.814903Z",
     "iopub.status.busy": "2021-09-14T12:12:14.814057Z",
     "iopub.status.idle": "2021-09-14T12:12:16.920874Z",
     "shell.execute_reply": "2021-09-14T12:12:16.920524Z"
    }
   },
   "outputs": [],
   "source": [
    "%matplotlib widget\n",
    "from ogdf_python import *\n",
    "from cppyy import gbl as cpp"
   ]
  },
  {
   "cell_type": "code",
   "execution_count": null,
   "id": "knowing-characterization",
   "metadata": {
    "execution": {
     "iopub.execute_input": "2021-09-14T12:12:16.930852Z",
     "iopub.status.busy": "2021-09-14T12:12:16.930311Z",
     "iopub.status.idle": "2021-09-14T12:12:16.969318Z",
     "shell.execute_reply": "2021-09-14T12:12:16.969635Z"
    }
   },
   "outputs": [],
   "source": [
    "%%cpp\n",
    "\n",
    "std::cout << \"Hello World!\" << std::endl;\n",
    "std::cerr << \"Hello Error!\" << std::endl;\n",
    "std::cout << \"Hello All!\\n\";\n",
    "        \n",
    "ogdf::Graph G;"
   ]
  },
  {
   "cell_type": "code",
   "execution_count": null,
   "id": "martial-allergy",
   "metadata": {
    "execution": {
     "iopub.execute_input": "2021-09-14T12:12:16.980660Z",
     "iopub.status.busy": "2021-09-14T12:12:16.980124Z",
     "iopub.status.idle": "2021-09-14T12:12:17.256498Z",
     "shell.execute_reply": "2021-09-14T12:12:17.256156Z"
    }
   },
   "outputs": [],
   "source": [
    "G = cpp.G\n",
    "GA = ogdf.GraphAttributes(G, ogdf.GraphAttributes.all)\n",
    "GA.destroyAttributes(ogdf.GraphAttributes.nodeId)\n",
    "\n",
    "cppinclude(\"ogdf/basic/graph_generators/deterministic.h\")\n",
    "width = height = 3\n",
    "ogdf.gridGraph(G, width, height, True, False)\n",
    "\n",
    "for n in G.nodes:\n",
    "    GA.label[n] = str(n.index())\n",
    "    GA.x[n] = (n.index() % width) * 50 \n",
    "    GA.y[n] = (n.index() // height) * 50\n",
    "\n",
    "middle = G.numberOfNodes() // 2\n",
    "GA.width[G.nodes[middle]] = 40\n",
    "GA.height[G.nodes[middle]] = 40\n",
    "    \n",
    "GA"
   ]
  },
  {
   "cell_type": "code",
   "execution_count": null,
   "id": "varying-frame",
   "metadata": {
    "execution": {
     "iopub.execute_input": "2021-09-14T12:12:17.270634Z",
     "iopub.status.busy": "2021-09-14T12:12:17.270248Z",
     "iopub.status.idle": "2021-09-14T12:12:17.272313Z",
     "shell.execute_reply": "2021-09-14T12:12:17.271951Z"
    }
   },
   "outputs": [],
   "source": [
    "%%cpp\n",
    "\n",
    "std::cout << \"The graph has \" << G.numberOfNodes() << \" nodes\\n\";"
   ]
  },
  {
   "cell_type": "code",
   "execution_count": null,
   "id": "sharing-sugar",
   "metadata": {
    "execution": {
     "iopub.execute_input": "2021-09-14T13:18:50.317866Z",
     "iopub.status.busy": "2021-09-14T13:18:50.317492Z",
     "iopub.status.idle": "2021-09-14T13:18:50.319354Z",
     "shell.execute_reply": "2021-09-14T13:18:50.318988Z"
    },
    "pycharm": {
     "name": "#%%\n"
    }
   },
   "outputs": [],
   "source": [
    "%%cppdef\n",
    "\n",
    "// implemented in C++ for efficiency\n",
    "int avg_width(const ogdf::GraphAttributes &GA) {\n",
    "    int sum = 0;\n",
    "    for (auto n : GA.constGraph().nodes) {\n",
    "        sum += GA.width(n);\n",
    "    }\n",
    "    return sum / GA.constGraph().numberOfNodes();\n",
    "}"
   ]
  },
  {
   "cell_type": "code",
   "execution_count": null,
   "id": "brutal-egyptian",
   "metadata": {
    "execution": {
     "iopub.execute_input": "2021-09-14T12:12:17.379275Z",
     "iopub.status.busy": "2021-09-14T12:12:17.311586Z",
     "iopub.status.idle": "2021-09-14T12:12:17.410719Z",
     "shell.execute_reply": "2021-09-14T12:12:17.410412Z"
    }
   },
   "outputs": [],
   "source": [
    "print(\"The node widths are\", GA.width())\n",
    "print(\"The average width is\", cpp.avg_width(GA)) # call your own C++ functions from python\n",
    "\n",
    "dict(zip(G.nodes, GA.width()))"
   ]
  },
  {
   "cell_type": "code",
   "execution_count": null,
   "id": "covered-effect",
   "metadata": {
    "execution": {
     "iopub.execute_input": "2021-09-14T12:12:17.429846Z",
     "iopub.status.busy": "2021-09-14T12:12:17.429334Z",
     "iopub.status.idle": "2021-09-14T12:12:17.432465Z",
     "shell.execute_reply": "2021-09-14T12:12:17.432081Z"
    }
   },
   "outputs": [],
   "source": [
    "print(\"Deleting node number %s:\" % middle, repr(G.nodes[middle]))\n",
    "G.delNode(G.nodes[middle])\n",
    "print(\"Node number %s now is:\" % middle, G.nodes[middle])\n",
    "print(\"The last node is:\", G.nodes[-1])\n",
    "print(\"The node with the biggest ID is:\", G.nodes.byid(G.maxNodeIndex()))\n",
    "\n",
    "print(\"The line in the middle is edge\", repr(G.searchEdge(\n",
    "    G.nodes.byid(width * (height // 2)), \n",
    "    G.nodes.byid(width * (height // 2) + width - 1))))\n",
    "\n",
    "GA"
   ]
  },
  {
   "cell_type": "code",
   "execution_count": null,
   "id": "wrapped-mexican",
   "metadata": {
    "execution": {
     "iopub.execute_input": "2021-09-14T12:12:17.439841Z",
     "iopub.status.busy": "2021-09-14T12:12:17.439298Z",
     "iopub.status.idle": "2021-09-14T12:12:17.444310Z",
     "shell.execute_reply": "2021-09-14T12:12:17.443968Z"
    }
   },
   "outputs": [],
   "source": [
    "# we have python docs and also the doxygen docs linked from there\n",
    "help(G)"
   ]
  }
 ],
 "metadata": {
  "kernelspec": {
   "display_name": "ogdf-python",
   "language": "python",
   "name": "ogdf-python"
  },
  "language_info": {
   "codemirror_mode": {
    "name": "ipython",
    "version": 3
   },
   "file_extension": ".py",
   "mimetype": "text/x-python",
   "name": "python",
   "nbconvert_exporter": "python",
   "pygments_lexer": "ipython3",
   "version": "3.11.4"
  }
 },
 "nbformat": 4,
 "nbformat_minor": 5
}
