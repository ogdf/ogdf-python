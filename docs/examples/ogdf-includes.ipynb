{
 "cells": [
  {
   "cell_type": "code",
   "execution_count": null,
   "metadata": {
    "ExecuteTime": {
     "end_time": "2023-09-21T08:36:00.074116426Z",
     "start_time": "2023-09-21T08:36:00.032105573Z"
    }
   },
   "outputs": [],
   "source": [
    "%matplotlib widget\n",
    "\n",
    "import os\n",
    "import re\n",
    "from collections import defaultdict\n",
    "\n",
    "from ogdf_python import *"
   ]
  },
  {
   "cell_type": "code",
   "execution_count": null,
   "metadata": {
    "ExecuteTime": {
     "end_time": "2023-09-20T21:37:12.874505060Z",
     "start_time": "2023-09-20T21:37:11.330315417Z"
    }
   },
   "outputs": [],
   "source": [
    "DIR = get_ogdf_include_path()\n",
    "\n",
    "HEADERS = [\n",
    "    os.path.relpath(os.path.join(root, file), DIR)\n",
    "    for root, dirs, files in os.walk(DIR)\n",
    "    for file in files\n",
    "]\n",
    "CGA = CG = G = None\n",
    "G = ogdf.Graph()\n",
    "CG = ogdf.ClusterGraph(G)\n",
    "CG.setUpdateDepth(True)\n",
    "CGA = ogdf.ClusterGraphAttributes(CG, ogdf.ClusterGraphAttributes.all)\n",
    "\n",
    "NODES = {h: G.newNode() for h in HEADERS}\n",
    "UNKNOWN = defaultdict(list)\n",
    "CLUSTERS = {}\n",
    "\n",
    "for header, node in NODES.items():\n",
    "    CGA.label[node] = header\n",
    "    CGA.width[node] = len(header) * 5\n",
    "\n",
    "    parents = os.path.dirname(header).split(os.sep)\n",
    "    cluster_path = cluster = None\n",
    "    for i in range(1, len(parents) + 1):\n",
    "        cluster_path = os.sep.join(parents[:i])\n",
    "        if cluster_path not in CLUSTERS:\n",
    "            cluster = CLUSTERS[cluster_path] = CG.createEmptyCluster(cluster or nullptr)\n",
    "            CGA.label[cluster] = cluster_path\n",
    "            CGA.strokeType[cluster] = ogdf.StrokeType.Dash\n",
    "        else:\n",
    "            cluster = CLUSTERS[cluster_path]\n",
    "    if cluster is not None:\n",
    "        CG.reassignNode(node, cluster)\n",
    "\n",
    "    with open(os.path.join(DIR, header)) as f:\n",
    "        for match in re.finditer(\"#include\\s+([\\\"<])(.*)([\\\">])\", f.read()):\n",
    "            include = match.group(2)\n",
    "            include_rel = os.path.join(os.path.dirname(header), include)\n",
    "            if include in NODES:\n",
    "                e = G.newEdge(node, NODES[include])\n",
    "            elif include_rel in NODES and match.group(1) == \"\\\"\":\n",
    "                e = G.newEdge(node, NODES[include_rel])\n",
    "            else:\n",
    "                UNKNOWN[match.group(1) + include + match.group(3)].append(header)\n",
    "\n",
    "print(G.numberOfNodes(), G.numberOfEdges(), CG.numberOfClusters(), CG.treeDepth())"
   ]
  },
  {
   "cell_type": "code",
   "execution_count": null,
   "metadata": {
    "pycharm": {
     "name": "#%%\n"
    }
   },
   "outputs": [],
   "source": [
    "cppinclude(\"ogdf/layered/SugiyamaLayout.h\")\n",
    "cppinclude(\"ogdf/layered/MedianHeuristic.h\")\n",
    "cppinclude(\"ogdf/layered/OptimalHierarchyClusterLayout.h\")\n",
    "cppinclude(\"ogdf/layered/OptimalRanking.h\")\n",
    "\n",
    "SL = ogdf.SugiyamaLayout()\n",
    "r = ogdf.OptimalRanking()\n",
    "r.__python_owns__ = False\n",
    "SL.setRanking(r)\n",
    "h = ogdf.MedianHeuristic()\n",
    "h.__python_owns__ = False\n",
    "SL.setCrossMin(h)\n",
    "\n",
    "ohl = ogdf.OptimalHierarchyClusterLayout()\n",
    "ohl.__python_owns__ = False\n",
    "ohl.layerDistance(30.0)\n",
    "ohl.nodeDistance(100.0)\n",
    "ohl.weightBalancing(0.8)\n",
    "SL.setClusterLayout(ohl)\n",
    "\n",
    "SL.call(CGA)\n",
    "for name, node in NODES.items():\n",
    "    CGA.width[node] = len(name) * 5\n",
    "CGA.updateClusterPositions()\n",
    "ogdf.GraphIO.drawSVG(CGA, \"ogdf-includes.svg\")\n",
    "ogdf.GraphIO.write(CGA, \"ogdf-includes.gml\")\n",
    "CGA"
   ]
  }
 ],
 "metadata": {
  "kernelspec": {
   "display_name": "Python 3 (ipykernel)",
   "language": "python",
   "name": "python3"
  },
  "language_info": {
   "codemirror_mode": {
    "name": "ipython",
    "version": 3
   },
   "file_extension": ".py",
   "mimetype": "text/x-python",
   "name": "python",
   "nbconvert_exporter": "python",
   "pygments_lexer": "ipython3",
   "version": "3.11.5"
  }
 },
 "nbformat": 4,
 "nbformat_minor": 4
}
