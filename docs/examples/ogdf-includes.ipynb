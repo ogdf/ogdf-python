{
 "cells": [
  {
   "cell_type": "code",
   "execution_count": null,
   "metadata": {
    "execution": {
     "iopub.execute_input": "2021-08-24T11:00:08.698761Z",
     "iopub.status.busy": "2021-08-24T11:00:08.697652Z",
     "iopub.status.idle": "2021-08-24T11:00:09.941009Z",
     "shell.execute_reply": "2021-08-24T11:00:09.940609Z"
    }
   },
   "outputs": [],
   "source": [
    "import os\n",
    "import re\n",
    "from collections import defaultdict\n",
    "\n",
    "# uncomment if you didn't set this globally:\n",
    "# %env OGDF_BUILD_DIR=~/ogdf/build-debug\n",
    "from ogdf_python import ogdf, cppinclude, nullptr"
   ]
  },
  {
   "cell_type": "code",
   "execution_count": null,
   "metadata": {
    "execution": {
     "iopub.execute_input": "2021-08-24T11:00:09.949122Z",
     "iopub.status.busy": "2021-08-24T11:00:09.948766Z",
     "iopub.status.idle": "2021-08-24T11:00:10.220917Z",
     "shell.execute_reply": "2021-08-24T11:00:10.220573Z"
    }
   },
   "outputs": [],
   "source": [
    "try:\n",
    "    from ogdf_python import BUILD_DIR\n",
    "    DIR = os.path.join(os.path.dirname(BUILD_DIR), \"include\")\n",
    "except ImportError:\n",
    "    from ogdf_python import INSTALL_DIR\n",
    "    DIR = os.path.join(os.path.join(INSTALL_DIR, \"include\"))\n",
    "\n",
    "HEADERS = [\n",
    "    os.path.relpath(os.path.join(root,file),DIR)\n",
    "    for root, dirs, files in os.walk(DIR)\n",
    "    for file in files\n",
    "]\n",
    "CGA = CG = G = None\n",
    "G = ogdf.Graph()\n",
    "CG = ogdf.ClusterGraph(G)\n",
    "CG.setUpdateDepth(True)\n",
    "CGA = ogdf.ClusterGraphAttributes(CG, ogdf.ClusterGraphAttributes.all)\n",
    "\n",
    "NODES = {h:G.newNode() for h in HEADERS}\n",
    "UNKNOWN = defaultdict(list)\n",
    "CLUSTERS = {}\n",
    "\n",
    "\n",
    "for header, node in NODES.items():\n",
    "    CGA.label[node] = header\n",
    "    CGA.width[node] = len(header) * 5\n",
    "    \n",
    "    parents = os.path.dirname(header).split(os.sep)\n",
    "    cluster_path = cluster = None\n",
    "    for i in range(1,len(parents)+1):\n",
    "        cluster_path = os.sep.join(parents[:i])\n",
    "        if cluster_path not in CLUSTERS:\n",
    "            cluster = CLUSTERS[cluster_path] = CG.createEmptyCluster(cluster or nullptr)\n",
    "            CGA.label[cluster] = cluster_path\n",
    "            CGA.strokeType[cluster] = ogdf.StrokeType.Dash\n",
    "        else:\n",
    "            cluster = CLUSTERS[cluster_path]\n",
    "    if cluster is not None:\n",
    "        CG.reassignNode(node, cluster)\n",
    "    \n",
    "    with open(os.path.join(DIR, header)) as f:\n",
    "        for match in re.finditer(\"#include\\s+([\\\"<])(.*)([\\\">])\", f.read()):\n",
    "            include = match.group(2)\n",
    "            include_rel = os.path.join(os.path.dirname(header), include)\n",
    "            if include in NODES:\n",
    "                e = G.newEdge(node, NODES[include])\n",
    "            elif include_rel in NODES and match.group(1) == \"\\\"\":\n",
    "                e = G.newEdge(node, NODES[include_rel])\n",
    "            else:\n",
    "                UNKNOWN[match.group(1)+include+match.group(3)].append(header)\n",
    "\n",
    "print(G.numberOfNodes(), G.numberOfEdges(), CG.numberOfClusters(), CG.treeDepth())"
   ]
  },
  {
   "cell_type": "code",
   "execution_count": null,
   "metadata": {
    "execution": {
     "iopub.execute_input": "2021-08-24T11:00:20.740477Z",
     "iopub.status.busy": "2021-08-24T11:00:10.388746Z",
     "iopub.status.idle": "2021-08-24T11:00:20.867359Z",
     "shell.execute_reply": "2021-08-24T11:00:20.867678Z"
    },
    "pycharm": {
     "name": "#%%\n"
    }
   },
   "outputs": [],
   "source": [
    "cppinclude(\"ogdf/layered/SugiyamaLayout.h\")\n",
    "cppinclude(\"ogdf/layered/MedianHeuristic.h\")\n",
    "cppinclude(\"ogdf/layered/OptimalHierarchyClusterLayout.h\")\n",
    "cppinclude(\"ogdf/layered/OptimalRanking.h\")\n",
    "\n",
    "SL = ogdf.SugiyamaLayout()\n",
    "r = ogdf.OptimalRanking()\n",
    "r.__python_owns__ = False\n",
    "SL.setRanking(r)\n",
    "h = ogdf.MedianHeuristic()\n",
    "h.__python_owns__ = False\n",
    "SL.setCrossMin(h)\n",
    "\n",
    "ohl = ogdf.OptimalHierarchyClusterLayout()\n",
    "ohl.__python_owns__ = False\n",
    "ohl.layerDistance(30.0)\n",
    "ohl.nodeDistance(100.0)\n",
    "ohl.weightBalancing(0.8)\n",
    "SL.setClusterLayout(ohl)\n",
    "\n",
    "SL.call(CGA)\n",
    "for name, node in NODES.items():\n",
    "    CGA.width[node] = len(name) * 5\n",
    "CGA.updateClusterPositions()\n",
    "ogdf.GraphIO.drawSVG(CGA, \"ogdf-includes.svg\")\n",
    "ogdf.GraphIO.write(CGA, \"ogdf-includes.gml\")\n",
    "CGA"
   ]
  },
  {
   "cell_type": "code",
   "execution_count": null,
   "metadata": {
    "execution": {
     "iopub.execute_input": "2021-08-24T11:00:20.876331Z",
     "iopub.status.busy": "2021-08-24T11:00:20.875789Z",
     "iopub.status.idle": "2021-08-24T11:00:20.884385Z",
     "shell.execute_reply": "2021-08-24T11:00:20.884024Z"
    },
    "jupyter": {
     "outputs_hidden": false
    },
    "pycharm": {
     "name": "#%%\n"
    }
   },
   "outputs": [],
   "source": [
    "del CGA\n",
    "del CG\n",
    "del G"
   ]
  }
 ],
 "metadata": {
  "kernelspec": {
   "display_name": "Python 3 (ipykernel)",
   "language": "python",
   "name": "python3"
  },
  "language_info": {
   "codemirror_mode": {
    "name": "ipython",
    "version": 3
   },
   "file_extension": ".py",
   "mimetype": "text/x-python",
   "name": "python",
   "nbconvert_exporter": "python",
   "pygments_lexer": "ipython3",
   "version": "3.11.4"
  }
 },
 "nbformat": 4,
 "nbformat_minor": 4
}
