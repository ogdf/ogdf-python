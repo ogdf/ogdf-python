{
 "cells": [
  {
   "cell_type": "code",
   "execution_count": 1,
   "id": "9fa908de",
   "metadata": {
    "scrolled": true
   },
   "outputs": [
    {
     "name": "stdout",
     "output_type": "stream",
     "text": [
      "env: OGDF_BUILD_DIR=~/Bachelorarbeit/OGDF/build-debug\n"
     ]
    },
    {
     "data": {
      "application/vnd.jupyter.widget-view+json": {
       "model_id": "87b1cc57e8de4c2d9d92d45fc2ad5348",
       "version_major": 2,
       "version_minor": 0
      },
      "text/plain": [
       "CustomBox(children=(VBox(children=(Button(description='Add', style=ButtonStyle(), tooltip='Click me'), Button(…"
      ]
     },
     "metadata": {},
     "output_type": "display_data"
    }
   ],
   "source": [
    "%env OGDF_BUILD_DIR=~/Bachelorarbeit/OGDF/build-debug\n",
    "\n",
    "from ogdf_python import ogdf, cppinclude\n",
    "import ogdf_python\n",
    "cppinclude(\"ogdf/basic/graph_generators/randomized.h\")\n",
    "cppinclude(\"ogdf/layered/SugiyamaLayout.h\")\n",
    "\n",
    "G = ogdf.Graph()\n",
    "ogdf.setSeed(1)\n",
    "ogdf.randomPlanarTriconnectedGraph(G, 20, 40)\n",
    "GA = ogdf.GraphAttributes(G, ogdf.GraphAttributes.all)\n",
    "\n",
    "for n in G.nodes:\n",
    "    GA.label[n] = \"N%s\" % n.index()\n",
    "\n",
    "SL = ogdf.SugiyamaLayout()\n",
    "SL.call(GA)\n",
    "\n",
    "\n",
    "w = ogdf_python.widget.CustomBox(GA)\n",
    "w"
   ]
  },
  {
   "cell_type": "code",
   "execution_count": 11,
   "id": "00b42d4f",
   "metadata": {
    "scrolled": false
   },
   "outputs": [
    {
     "data": {
      "application/vnd.jupyter.widget-view+json": {
       "model_id": "8b469719485b432a99ce298c30ff84ae",
       "version_major": 2,
       "version_minor": 0
      },
      "text/plain": [
       "HelloWorld(edges=[[250, 40, 220, 90], [380, 262, 360, 312], [360, 312, 360, 575], [360, 575, 280, 625], [380, …"
      ]
     },
     "metadata": {},
     "output_type": "display_data"
    }
   ],
   "source": [
    "w.drawing_pad"
   ]
  },
  {
   "cell_type": "code",
   "execution_count": 3,
   "id": "33fd8194",
   "metadata": {},
   "outputs": [
    {
     "data": {
      "text/plain": [
       "[[250, 40, 220, 90],\n",
       " [380, 262, 360, 312],\n",
       " [360, 312, 360, 575],\n",
       " [360, 575, 280, 625],\n",
       " [380, 262, 400, 312],\n",
       " [400, 312, 400, 782],\n",
       " [400, 782, 240, 855],\n",
       " [220, 362, 220, 415],\n",
       " [220, 415, 240, 465],\n",
       " [180, 140, 40, 212],\n",
       " [40, 212, 40, 515],\n",
       " [40, 515, 40, 575],\n",
       " [200, 575, 180, 625],\n",
       " [80, 782, 80, 732],\n",
       " [80, 732, 80, 575],\n",
       " [80, 575, 160, 515],\n",
       " [160, 515, 200, 575],\n",
       " [200, 575, 280, 625],\n",
       " [160, 515, 40, 575],\n",
       " [40, 575, 40, 625],\n",
       " [40, 625, 40, 732],\n",
       " [40, 732, 80, 782],\n",
       " [150, 732, 150, 782],\n",
       " [180, 140, 200, 212],\n",
       " [200, 212, 200, 312],\n",
       " [200, 312, 220, 362],\n",
       " [260, 415, 280, 362],\n",
       " [280, 362, 260, 312],\n",
       " [335, 212, 380, 262],\n",
       " [150, 782, 150, 855],\n",
       " [150, 855, 240, 942],\n",
       " [180, 625, 150, 732],\n",
       " [150, 732, 80, 782],\n",
       " [250, 40, 290, 90],\n",
       " [290, 90, 290, 212],\n",
       " [290, 212, 290, 262],\n",
       " [260, 312, 240, 262],\n",
       " [240, 262, 240, 140],\n",
       " [240, 140, 220, 90],\n",
       " [220, 90, 180, 140],\n",
       " [250, 40, 335, 90],\n",
       " [335, 90, 335, 140],\n",
       " [335, 140, 335, 212],\n",
       " [335, 212, 290, 262],\n",
       " [290, 262, 260, 312],\n",
       " [220, 362, 260, 415],\n",
       " [260, 415, 240, 465],\n",
       " [240, 465, 240, 515],\n",
       " [240, 515, 240, 575],\n",
       " [240, 575, 280, 625],\n",
       " [150, 782, 240, 855],\n",
       " [240, 855, 240, 942],\n",
       " [240, 942, 440, 855],\n",
       " [440, 855, 440, 732],\n",
       " [440, 732, 180, 625],\n",
       " [220, 362, 120, 415],\n",
       " [120, 415, 120, 465],\n",
       " [120, 465, 160, 515],\n",
       " [180, 140, 335, 212],\n",
       " [180, 625, 160, 575],\n",
       " [160, 575, 160, 515],\n",
       " [240, 465, 160, 515],\n",
       " [150, 732, 120, 625],\n",
       " [120, 625, 120, 575],\n",
       " [120, 575, 160, 515],\n",
       " [240, 855, 240, 782],\n",
       " [240, 782, 240, 732],\n",
       " [240, 732, 180, 625],\n",
       " [160, 515, 160, 465],\n",
       " [160, 465, 160, 212],\n",
       " [160, 212, 180, 140],\n",
       " [260, 312, 220, 362],\n",
       " [280, 625, 320, 575],\n",
       " [320, 575, 320, 312],\n",
       " [320, 312, 290, 262],\n",
       " [180, 140, 180, 90],\n",
       " [180, 90, 250, 40]]"
      ]
     },
     "execution_count": 3,
     "metadata": {},
     "output_type": "execute_result"
    }
   ],
   "source": [
    "w.drawing_pad.edges"
   ]
  },
  {
   "cell_type": "code",
   "execution_count": 4,
   "id": "e1775977",
   "metadata": {},
   "outputs": [
    {
     "data": {
      "text/plain": [
       "[[250, 40],\n",
       " [220, 90],\n",
       " [200, 575],\n",
       " [150, 732],\n",
       " [160, 515],\n",
       " [240, 465],\n",
       " [40, 575],\n",
       " [150, 782],\n",
       " [220, 362],\n",
       " [380, 262],\n",
       " [240, 942],\n",
       " [80, 782],\n",
       " [290, 262],\n",
       " [180, 140],\n",
       " [335, 212],\n",
       " [260, 312],\n",
       " [260, 415],\n",
       " [280, 625],\n",
       " [240, 855],\n",
       " [180, 625]]"
      ]
     },
     "execution_count": 4,
     "metadata": {},
     "output_type": "execute_result"
    }
   ],
   "source": [
    "w.drawing_pad.nodes"
   ]
  },
  {
   "cell_type": "code",
   "execution_count": null,
   "id": "6f23fd3a",
   "metadata": {},
   "outputs": [],
   "source": []
  },
  {
   "cell_type": "code",
   "execution_count": null,
   "id": "59f9d269",
   "metadata": {},
   "outputs": [],
   "source": []
  }
 ],
 "metadata": {
  "kernelspec": {
   "display_name": "ogdf-python",
   "language": "python",
   "name": "ogdf-python"
  },
  "language_info": {
   "codemirror_mode": {
    "name": "ipython",
    "version": 3
   },
   "file_extension": ".py",
   "mimetype": "text/x-python",
   "name": "python",
   "nbconvert_exporter": "python",
   "pygments_lexer": "ipython3",
   "version": "3.8.10"
  }
 },
 "nbformat": 4,
 "nbformat_minor": 5
}
