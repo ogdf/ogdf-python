{
 "cells": [
  {
   "cell_type": "code",
   "execution_count": 3,
   "id": "9fa908de",
   "metadata": {},
   "outputs": [
    {
     "name": "stdout",
     "output_type": "stream",
     "text": [
      "env: OGDF_BUILD_DIR=~/Bachelorarbeit/OGDF/build-debug\n"
     ]
    },
    {
     "data": {
      "application/vnd.jupyter.widget-view+json": {
       "model_id": "ca56c50e03084c56bfba02f2abf8b146",
       "version_major": 2,
       "version_minor": 0
      },
      "text/plain": [
       "HelloWorld()"
      ]
     },
     "metadata": {},
     "output_type": "display_data"
    }
   ],
   "source": [
    "%env OGDF_BUILD_DIR=~/Bachelorarbeit/OGDF/build-debug\n",
    "\n",
    "import ogdf_python\n",
    "w = ogdf_python.HelloWorld()\n",
    "w"
   ]
  },
  {
   "cell_type": "code",
   "execution_count": 6,
   "id": "00b42d4f",
   "metadata": {},
   "outputs": [
    {
     "data": {
      "text/plain": [
       "'Hello Test!'"
      ]
     },
     "execution_count": 6,
     "metadata": {},
     "output_type": "execute_result"
    }
   ],
   "source": [
    "\n",
    "w.value"
   ]
  },
  {
   "cell_type": "code",
   "execution_count": 7,
   "id": "33fd8194",
   "metadata": {},
   "outputs": [
    {
     "data": {
      "text/plain": [
       "'Hello World!'"
      ]
     },
     "execution_count": 7,
     "metadata": {},
     "output_type": "execute_result"
    }
   ],
   "source": [
    "w.value2"
   ]
  },
  {
   "cell_type": "code",
   "execution_count": 4,
   "id": "e1775977",
   "metadata": {},
   "outputs": [],
   "source": [
    "w.value = 'etafwqf'"
   ]
  },
  {
   "cell_type": "code",
   "execution_count": null,
   "id": "6f23fd3a",
   "metadata": {},
   "outputs": [],
   "source": []
  },
  {
   "cell_type": "code",
   "execution_count": null,
   "id": "59f9d269",
   "metadata": {},
   "outputs": [],
   "source": []
  }
 ],
 "metadata": {
  "kernelspec": {
   "display_name": "ogdf-python",
   "language": "python",
   "name": "ogdf-python"
  },
  "language_info": {
   "codemirror_mode": {
    "name": "ipython",
    "version": 3
   },
   "file_extension": ".py",
   "mimetype": "text/x-python",
   "name": "python",
   "nbconvert_exporter": "python",
   "pygments_lexer": "ipython3",
   "version": "3.8.10"
  }
 },
 "nbformat": 4,
 "nbformat_minor": 5
}
