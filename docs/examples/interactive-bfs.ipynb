{
 "cells": [
  {
   "cell_type": "code",
   "execution_count": null,
   "id": "intense-february",
   "metadata": {
    "execution": {
     "iopub.execute_input": "2021-09-01T10:18:35.146158Z",
     "iopub.status.busy": "2021-09-01T10:18:35.140634Z",
     "iopub.status.idle": "2021-09-01T10:18:36.611404Z",
     "shell.execute_reply": "2021-09-01T10:18:36.611034Z"
    }
   },
   "outputs": [],
   "source": [
    "# %env OGDF_BUILD_DIR=~/ogdf/build-debug\n",
    "# uncomment if you didn't set this globally\n",
    "from ogdf_python import ogdf, cppinclude\n",
    "\n",
    "cppinclude(\"ogdf/basic/graph_generators/randomized.h\")\n",
    "cppinclude(\"ogdf/layered/SugiyamaLayout.h\")\n",
    "\n",
    "G = ogdf.Graph()\n",
    "ogdf.setSeed(1)\n",
    "ogdf.randomPlanarTriconnectedGraph(G, 20, 40)\n",
    "GA = ogdf.GraphAttributes(G, ogdf.GraphAttributes.all)\n",
    "GA.directed = False\n",
    "\n",
    "SL = ogdf.SugiyamaLayout()\n",
    "SL.call(GA)\n",
    "\n",
    "FIRST = 0\n",
    "LAST = -1"
   ]
  },
  {
   "cell_type": "code",
   "execution_count": null,
   "id": "veterinary-meeting",
   "metadata": {
    "execution": {
     "iopub.execute_input": "2021-09-01T10:18:36.615207Z",
     "iopub.status.busy": "2021-09-01T10:18:36.614835Z",
     "iopub.status.idle": "2021-09-01T10:18:36.616478Z",
     "shell.execute_reply": "2021-09-01T10:18:36.616144Z"
    }
   },
   "outputs": [],
   "source": [
    "def search(G, node1, GA=None, mode=FIRST):\n",
    "    todo = [node1]\n",
    "    order = ogdf.NodeArray[int](G, -1)\n",
    "    count = 0\n",
    "    while len(todo) > 0:\n",
    "        cur = todo.pop(mode)\n",
    "        if order[cur] >= 0:\n",
    "            continue\n",
    "            \n",
    "        order[cur] = count\n",
    "        if GA:\n",
    "            GA.label[cur] = str(count)\n",
    "        count += 1\n",
    "        \n",
    "        for adj in cur.adjEntries:\n",
    "            if order[adj.twinNode()] < 0:\n",
    "                todo.append(adj.twinNode())\n",
    "        \n",
    "        yield todo\n",
    "    return count"
   ]
  },
  {
   "cell_type": "code",
   "execution_count": null,
   "id": "cellular-electricity",
   "metadata": {
    "execution": {
     "iopub.execute_input": "2021-09-01T10:18:36.620527Z",
     "iopub.status.busy": "2021-09-01T10:18:36.620198Z",
     "iopub.status.idle": "2021-09-01T10:18:36.621925Z",
     "shell.execute_reply": "2021-09-01T10:18:36.621599Z"
    }
   },
   "outputs": [],
   "source": [
    "def dfs(G):\n",
    "    discovery = ogdf.NodeArray[int](G, -1)\n",
    "    finish = ogdf.NodeArray[int](G, -1)\n",
    "    predecessor = ogdf.NodeArray[ogdf.node](G, None)\n",
    "    \n",
    "    time = 0\n",
    "    \n",
    "    def dfs_visit(u):\n",
    "        nonlocal time\n",
    "\n",
    "        time += 1\n",
    "        discovery[u] = time\n",
    "        yield u, discovery[u], finish[u]\n",
    "        \n",
    "        for adj in u.adjEntries:\n",
    "            v = adj.twinNode()\n",
    "            if discovery[node] < 0:\n",
    "                predecessor[v] = u\n",
    "                yield from dfs_visit(v)\n",
    "\n",
    "        time += 1\n",
    "        finish[u] = time\n",
    "        yield u, discovery[u], finish[u]\n",
    "    \n",
    "    for node in G.nodes:\n",
    "        if discovery[node] < 0:\n",
    "            yield from dfs_visit(node)"
   ]
  },
  {
   "cell_type": "code",
   "execution_count": null,
   "id": "polished-position",
   "metadata": {
    "execution": {
     "iopub.execute_input": "2021-09-01T10:18:36.680987Z",
     "iopub.status.busy": "2021-09-01T10:18:36.636849Z",
     "iopub.status.idle": "2021-09-01T10:18:36.694363Z",
     "shell.execute_reply": "2021-09-01T10:18:36.694679Z"
    }
   },
   "outputs": [],
   "source": [
    "it = search(G, G.nodes[0], GA, LAST)\n",
    "GA"
   ]
  },
  {
   "cell_type": "code",
   "execution_count": null,
   "id": "opponent-weight",
   "metadata": {
    "execution": {
     "iopub.execute_input": "2021-09-01T10:18:36.703220Z",
     "iopub.status.busy": "2021-09-01T10:18:36.702548Z",
     "iopub.status.idle": "2021-09-01T10:18:36.792123Z",
     "shell.execute_reply": "2021-09-01T10:18:36.791758Z"
    }
   },
   "outputs": [],
   "source": [
    "try:\n",
    "    print([n.index() for n in next(it)])\n",
    "except StopIteration as e:\n",
    "    print(\"done\", e.args)\n",
    "GA"
   ]
  }
 ],
 "metadata": {
  "kernelspec": {
   "display_name": "ogdf-python",
   "language": "python",
   "name": "ogdf-python"
  },
  "language_info": {
   "codemirror_mode": {
    "name": "ipython",
    "version": 3
   },
   "file_extension": ".py",
   "mimetype": "text/x-python",
   "name": "python",
   "nbconvert_exporter": "python",
   "pygments_lexer": "ipython3",
   "version": "3.9.6"
  }
 },
 "nbformat": 4,
 "nbformat_minor": 5
}
