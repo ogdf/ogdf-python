{
 "cells": [
  {
   "cell_type": "code",
   "execution_count": null,
   "id": "baa0620f",
   "metadata": {},
   "outputs": [],
   "source": [
    "%matplotlib widget\n",
    "from ogdf_python import ogdf, cppinclude\n",
    "\n",
    "cppinclude(\"ogdf/basic/graph_generators/randomized.h\")\n",
    "\n",
    "G = ogdf.Graph()\n",
    "ogdf.setSeed(1)\n",
    "ogdf.randomTree(G, 15)\n",
    "root = G.nodes[0]\n",
    "GA = ogdf.GraphAttributes(G, ogdf.GraphAttributes.all)\n",
    "\n",
    "G"
   ]
  },
  {
   "cell_type": "code",
   "execution_count": null,
   "id": "3e56f5e9",
   "metadata": {},
   "outputs": [],
   "source": [
    "depth = ogdf.NodeArray[int](G, -1)\n",
    "\n",
    "\n",
    "# TODO fill in the dots, possibly making changes to the surrounding code\n",
    "def postorder(n, level=0):\n",
    "    ...\n",
    "\n",
    "\n",
    "postorder(root)"
   ]
  },
  {
   "cell_type": "code",
   "execution_count": null,
   "id": "b5b479f7",
   "metadata": {},
   "outputs": [],
   "source": [
    "for n in G.nodes:\n",
    "    GA.y[n] = depth[n] * 50  # TODO first, try to calculate the depth\n",
    "    GA.x[n] = 0  # TODO second, update this to the postorder index\n",
    "GA"
   ]
  }
 ],
 "metadata": {
  "jupytext": {
   "cell_metadata_filter": "-all",
   "main_language": "python",
   "notebook_metadata_filter": "-all"
  }
 },
 "nbformat": 4,
 "nbformat_minor": 5
}
