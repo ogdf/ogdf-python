{
 "cells": [
  {
   "cell_type": "code",
   "execution_count": null,
   "id": "67e50b92",
   "metadata": {},
   "outputs": [],
   "source": [
    "# This cell generates a random graph for the topological sort to run on.\n",
    "\n",
    "%matplotlib widget\n",
    "from ogdf_python import ogdf, cppinclude\n",
    "import cppyy\n",
    "\n",
    "cppinclude(\"ogdf/basic/graph_generators/randomized.h\")\n",
    "cppinclude(\"ogdf/layered/SugiyamaLayout.h\")\n",
    "cppinclude(\"ogdf/basic/simple_graph_alg.h\")\n",
    "\n",
    "G = ogdf.Graph()\n",
    "GA = ogdf.GraphAttributes(G, ogdf.GraphAttributes.all)\n",
    "GA.directed = True\n",
    "\n",
    "\n",
    "def make_graph():\n",
    "    ogdf.setSeed(1)\n",
    "    G.clear()\n",
    "    G2 = ogdf.Graph()\n",
    "    ogdf.randomPlanarTriconnectedGraph(G2, 10, 20)\n",
    "    G.insert(G2)\n",
    "    ogdf.randomPlanarTriconnectedGraph(G2, 5, 10)\n",
    "    G.insert(G2)\n",
    "    ogdf.makeAcyclicByReverse(G)\n",
    "\n",
    "    for e in G.edges:\n",
    "        GA.label[e] = str(e.index())\n",
    "    for n in G.nodes:\n",
    "        GA.label[n] = str(n.index())\n",
    "\n",
    "    SL = ogdf.SugiyamaLayout()\n",
    "    SL.call(GA)\n",
    "    GA.rotateLeft90()\n",
    "\n",
    "    G.delEdge(G.edges[4])  # add a second source\n",
    "\n",
    "\n",
    "make_graph()\n",
    "GA"
   ]
  },
  {
   "cell_type": "markdown",
   "id": "0a7ec641",
   "metadata": {},
   "source": [
    "The structure of the following cells may provide some guidelines, but feel free to make changes as you see fit. The dots are only a hint at where additions are probably neccesary."
   ]
  },
  {
   "cell_type": "code",
   "execution_count": null,
   "id": "3af072e6",
   "metadata": {},
   "outputs": [],
   "source": [
    "# TODO define which data you want to store\n",
    "order = []  # order of nodes\n",
    "outdeg = ogdf.NodeArray[int](G, 0)  # outdegree after node deletion\n",
    "..."
   ]
  },
  {
   "cell_type": "code",
   "execution_count": null,
   "id": "be7a2dd4",
   "metadata": {},
   "outputs": [],
   "source": [
    "# TODO implement the algorithm in this reusable function\n",
    "# this should work similar to the DFS example\n",
    "def topo_step():\n",
    "    ..."
   ]
  },
  {
   "cell_type": "code",
   "execution_count": null,
   "id": "198fa341",
   "metadata": {},
   "outputs": [],
   "source": [
    "# TODO this method should print information about the current state and return GA for display\n",
    "def dump():\n",
    "    print(\"Order:\", ...)\n",
    "    ...\n",
    "    return GA\n",
    "\n",
    "\n",
    "dump()"
   ]
  },
  {
   "cell_type": "code",
   "execution_count": null,
   "id": "55d01805",
   "metadata": {},
   "outputs": [],
   "source": [
    "topo_step()\n",
    "dump()"
   ]
  },
  {
   "cell_type": "code",
   "execution_count": null,
   "id": "3c254ffb",
   "metadata": {},
   "outputs": [],
   "source": [
    "# when using \"Run All Cells\" these repeated cells show multiple consecutive steps\n",
    "topo_step()\n",
    "dump()"
   ]
  },
  {
   "cell_type": "code",
   "execution_count": null,
   "id": "e6365394",
   "metadata": {},
   "outputs": [],
   "source": [
    "topo_step()\n",
    "dump()"
   ]
  },
  {
   "cell_type": "code",
   "execution_count": null,
   "id": "0d762c3c",
   "metadata": {},
   "outputs": [],
   "source": [
    "# Bonus: use the following scaffolding for an interactive UI for your implementation\n",
    "import ipywidgets\n",
    "from ogdf_python.matplotlib import MatplotlibGraph\n",
    "\n",
    "reset()\n",
    "w = MatplotlibGraph(GA)\n",
    "w_order = ipywidgets.Label()\n",
    "b_step = ipywidgets.Button(description=\"Step\")\n",
    "b_reset = ipywidgets.Button(description=\"Reset\")\n",
    "\n",
    "\n",
    "def update():\n",
    "    w_order.value = \"Order: \" + ...\n",
    "    ...\n",
    "    w.update_all()\n",
    "\n",
    "\n",
    "def b_step_click(*args):\n",
    "    topo_step()\n",
    "    update()\n",
    "\n",
    "\n",
    "b_step.on_click(b_step_click)\n",
    "\n",
    "\n",
    "def b_reset_click(*args):\n",
    "    make_graph()\n",
    "    ...\n",
    "    update()\n",
    "\n",
    "\n",
    "b_reset.on_click(b_reset_click)\n",
    "\n",
    "update()\n",
    "ipywidgets.VBox(\n",
    "    [ipywidgets.HBox([b_step, b_reset]), w_order, w_sources, w.ax.figure.canvas]\n",
    ")"
   ]
  },
  {
   "cell_type": "code",
   "execution_count": null,
   "id": "d4bd74e7",
   "metadata": {},
   "outputs": [],
   "source": [
    "# use this if you want to allow changing the displayed node label\n",
    "\n",
    "d_label = ipywidgets.Dropdown(\n",
    "    options=[\"Index\", \"Degree\"],\n",
    "    value=\"Index\",\n",
    "    description=\"Node label:\",\n",
    "    disabled=False,\n",
    ")\n",
    "\n",
    "\n",
    "def label_changed(change):\n",
    "    for n in G.nodes:\n",
    "        GA.label[n] = str(n.index()) if change[\"new\"] == \"Index\" else f\"d{outdeg[n]}\"\n",
    "    w.update_all()\n",
    "\n",
    "\n",
    "d_label.observe(label_changed, names=\"value\")\n",
    "d_label"
   ]
  }
 ],
 "metadata": {
  "jupytext": {
   "cell_metadata_filter": "-all",
   "main_language": "python",
   "notebook_metadata_filter": "-all"
  }
 },
 "nbformat": 4,
 "nbformat_minor": 5
}
