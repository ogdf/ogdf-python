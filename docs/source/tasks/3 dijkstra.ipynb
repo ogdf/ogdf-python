{
 "cells": [
  {
   "cell_type": "code",
   "execution_count": null,
   "id": "5218fb89",
   "metadata": {},
   "outputs": [],
   "source": [
    "%matplotlib widget\n",
    "from ogdf_python import ogdf, cppinclude, cppdef\n",
    "import cppyy\n",
    "\n",
    "cppinclude(\"ogdf/basic/graph_generators/randomized.h\")\n",
    "cppinclude(\"ogdf/layered/SugiyamaLayout.h\")\n",
    "null_edge = cppyy.bind_object(cppyy.nullptr, \"ogdf::EdgeElement\")\n",
    "\n",
    "G = ogdf.Graph()\n",
    "ogdf.setSeed(1)\n",
    "ogdf.randomPlanarCNBGraph(G, 10, 20, 3)\n",
    "GA = ogdf.GraphAttributes(G, ogdf.GraphAttributes.all)\n",
    "GA.directed = True\n",
    "\n",
    "for n in G.nodes:\n",
    "    GA.label[n] = str(n.index())\n",
    "s = G.nodes[0]\n",
    "GA.strokeColor[s] = ogdf.Color(\"#0C0\")\n",
    "\n",
    "SL = ogdf.SugiyamaLayout()\n",
    "SL.call(GA)\n",
    "GA.rotateLeft90()\n",
    "GA"
   ]
  },
  {
   "cell_type": "code",
   "execution_count": null,
   "id": "cefad0c0",
   "metadata": {
    "lines_to_next_cell": 2
   },
   "outputs": [],
   "source": [
    "def cmp(a, b):  # comparator function for two nodes a, b\n",
    "    return ...\n",
    "\n",
    "\n",
    "# create PriorityQueue of nodes with the given comparator function\n",
    "cppinclude(\"ogdf/basic/PriorityQueue.h\")\n",
    "todo = ogdf.PriorityQueue[\n",
    "    \"ogdf::node\", \"std::function<bool(ogdf::node, ogdf::node)>\", \"ogdf::PairingHeap\"\n",
    "](cmp)\n",
    "\n",
    "# this node array can be used to store the position of nodes in the priority queue for decreasing their key\n",
    "null_pqnode = cppyy.bind_object(cppyy.nullptr, \"ogdf::PairingHeapNode<ogdf::node>\")\n",
    "handles = ogdf.NodeArray[\"ogdf::PairingHeapNode<ogdf::node>*\"](G, null_pqnode)\n",
    "\n",
    "# see help(todo) and the C++ Docs for more information"
   ]
  },
  {
   "cell_type": "code",
   "execution_count": null,
   "id": "ca53d94c",
   "metadata": {},
   "outputs": [],
   "source": [
    "def step():\n",
    "    ..."
   ]
  },
  {
   "cell_type": "code",
   "execution_count": null,
   "id": "098e814b",
   "metadata": {},
   "outputs": [],
   "source": [
    "import ipywidgets\n",
    "from ogdf_python.matplotlib import MatplotlibGraph\n",
    "\n",
    "w = MatplotlibGraph(GA)\n",
    "w_todo = ipywidgets.Label()\n",
    "b_step = ipywidgets.Button(description=\"Step\")\n",
    "\n",
    "\n",
    "def b_step_click(*args):\n",
    "    ...\n",
    "\n",
    "\n",
    "b_step.on_click(b_step_click)\n",
    "\n",
    "ipywidgets.VBox([b_step, w_todo, w.ax.figure.canvas])"
   ]
  }
 ],
 "metadata": {
  "jupytext": {
   "cell_metadata_filter": "-all",
   "main_language": "python",
   "notebook_metadata_filter": "-all"
  }
 },
 "nbformat": 4,
 "nbformat_minor": 5
}
