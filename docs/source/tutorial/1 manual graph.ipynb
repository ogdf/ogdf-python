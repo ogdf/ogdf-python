{
 "cells": [
  {
   "cell_type": "code",
   "execution_count": null,
   "id": "0cc3cb66",
   "metadata": {},
   "outputs": [],
   "source": [
    "# The following line loads the ogdf-python interface to the ogdf:\n",
    "from ogdf_python import ogdf\n",
    "\n",
    "# The next line enables interactive Graph displays for the whole notebook:\n",
    "%matplotlib widget\n",
    "\n",
    "# Now, let's create out first OGDF Graph!\n",
    "\n",
    "G = ogdf.Graph()\n",
    "c = G.newNode()\n",
    "print(c, \"stuff\")\n",
    "print(\"foo\")\n",
    "for i in range(4):\n",
    "    n: ogdf.node = G.newNode()\n",
    "    e: ogdf.edge = G.newEdge(c, n)\n",
    "    print(i, n, e)\n",
    "\n",
    "G  # having G on the last line of a code cell displays the graph interactively"
   ]
  },
  {
   "cell_type": "code",
   "execution_count": null,
   "id": "1598b784",
   "metadata": {},
   "outputs": [],
   "source": [
    "prev = first = None\n",
    "\n",
    "# we can continue using all variables defined in cells run before this cell\n",
    "for n in G.nodes:\n",
    "    print(n)  # str(n) gives full information, n.index() only short id\n",
    "\n",
    "    if n.degree() != 1:  # ignore the center node\n",
    "        continue\n",
    "\n",
    "    if prev is not None:\n",
    "        e = G.newEdge(prev, n)\n",
    "        print(e)\n",
    "    else:\n",
    "        first = n\n",
    "\n",
    "    prev = n\n",
    "\n",
    "if prev != first:\n",
    "    G.newEdge(prev, first)\n",
    "\n",
    "G  # display the updated graph"
   ]
  },
  {
   "cell_type": "code",
   "execution_count": null,
   "id": "353603ab",
   "metadata": {},
   "outputs": [],
   "source": [
    "for e in list(G.edges):  # make a copy before making changes\n",
    "    if e.isIncident(c) and e.index() % 2 == 0:\n",
    "        G.delEdge(e)  # invalidates `e` and iterators into G.edges\n",
    "\n",
    "G  # also check the interactive displays above, they updated automatically!"
   ]
  },
  {
   "cell_type": "code",
   "execution_count": null,
   "id": "e37133a9",
   "metadata": {},
   "outputs": [],
   "source": [
    "help(G)  # also check out `n` and `e`!"
   ]
  }
 ],
 "metadata": {
  "jupytext": {
   "cell_metadata_filter": "-all",
   "main_language": "python",
   "notebook_metadata_filter": "-all"
  }
 },
 "nbformat": 4,
 "nbformat_minor": 5
}
