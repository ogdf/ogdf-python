{
 "cells": [
  {
   "cell_type": "markdown",
   "id": "539cc69e",
   "metadata": {},
   "source": [
    "We have seen that there are three \"levels\" of graph information in OGDF:\n",
    "\n",
    "|   | Graph Information | OGDF Object       | Stored as               |\n",
    "|---|:------------------|:------------------|:------------------------|\n",
    "| 1 | Structure         | `Graph`           | `G.nodes, edges`        |\n",
    "| 2 | Embedding         | `Graph`           | Order of `n.adjEntries` |\n",
    "| 3 | Drawing           | `GraphAttributes` | `GA.x[n], GA.y[n],...`  |\n",
    "\n",
    "If information from a lower level is not needed, it can be simply left out or ignored.\n",
    "Modifying information on a higher level (e.g. deleting a node) will also affect the lower levels.\n",
    "Furthermore, we have seen how `Node-` and `EdgeArray`s can be used for annotating a graph with further information that wouldn't fit into `GraphAttributes`."
   ]
  },
  {
   "cell_type": "markdown",
   "id": "3fe2bc6c",
   "metadata": {},
   "source": [
    "OGDF doesn't differentiate between directed and undirected graphs. Depending on whether the direction information is important or not for the respective use-case, different methods can be used:\n",
    "\n",
    "| Directed                              | Undirected                                |\n",
    "|--------------------------------------:|:------------------------------------------|\n",
    "| n.indeg(), n.outdeg()                 | n.degree()                                |\n",
    "| e.source(), e.target()                | e.nodes(), e.opposite(n), e.isIncident(n) |\n",
    "| e.isParallelDirected(e2)              | e.isParallelUndirected(e2)                |\n",
    "| --                                    | e.commonNode(e2)                          |\n",
    "| adj.isSource()                        | --                                        |\n",
    "| <is/make>ParallelFree(G)              | <is/make>ParallelFreeUndirected(G)        |\n",
    "| <is/make>Simple(G)                    | <is/make>SimpleUndirected(G)              |\n",
    "| isAcyclic(G), isArborescenceForest(G) | isAcyclicUndirected(G)                    |\n",
    "| isArborescence(G)                     | isTree(G)                                 |\n",
    "| randomDigraph(...)                    | randomSimpleGraph(...)                    |\n",
    "\n",
    "For `searchEdge(node v, node w, bool directed = false)`, the optional third argument decides whether an edge from `w` to `v` is also considered a valid result. Note that the function has `O(min(deg(v), deg(w)))` runtime in both cases."
   ]
  },
  {
   "cell_type": "markdown",
   "id": "7574c351",
   "metadata": {},
   "source": [
    "Further interesting links to the OGDF docs:\n",
    "- [Graph](https://ogdf.github.io/doc/ogdf/classogdf_1_1_graph.html), [node](https://ogdf.github.io/doc/ogdf/classogdf_1_1_node_element.html), [edge](https://ogdf.github.io/doc/ogdf/classogdf_1_1_edge_element.html), [adjEntry](https://ogdf.github.io/doc/ogdf/classogdf_1_1_adj_element.html)\n",
    "- [Overview over the OGDF](https://ogdf.github.io/doc/ogdf/modules.html)\n",
    "- [GraphGenerators](https://ogdf.github.io/doc/ogdf/group__graph-generators.html): well-known graph classes (deterministic), randomized, as union/product/subgraph of other graphs\n",
    "- [simple](https://ogdf.github.io/doc/ogdf/simple__graph__alg_8h.html) and [extended Graph Algorithms](https://ogdf.github.io/doc/ogdf/extended__graph__alg_8h.html)\n",
    "- [LayoutModules](https://ogdf.github.io/doc/ogdf/classogdf_1_1_layout_module.html)"
   ]
  },
  {
   "cell_type": "markdown",
   "id": "b0f57182",
   "metadata": {},
   "source": [
    "A common problem is using methods that modify the graph like `G.delEdge` while iterating over the edges,\n",
    "or methods that modify the embedding like `G.moveEdge` while iterating the adjEntries of a node.\n",
    "These methods invalidate both the passed edge / adjEntry and all iterators on the underlying list.\n",
    "Using the respective objects after calling these methods will lead to random segfaults or crashes and will generally not yield a working algorithm.\n",
    "To call the methods inside for-loops, create a copy of the list e.g. using `list(G.edges)`."
   ]
  },
  {
   "cell_type": "code",
   "execution_count": null,
   "id": "5013cc60",
   "metadata": {},
   "outputs": [],
   "source": [
    "# The following example shows how to use nodes, edges or adjEntries as *values* for Arrays\n",
    "\n",
    "import cppyy\n",
    "\n",
    "null_edge = cppyy.bind_object(cppyy.nullptr, \"ogdf::EdgeElement\")\n",
    "\n",
    "pred = ogdf.NodeArray[\"ogdf::edge\"](G, null_edge)\n",
    "\n",
    "...\n",
    "\n",
    "if pred[n] == null_edge:\n",
    "    ..."
   ]
  }
 ],
 "metadata": {
  "jupytext": {
   "cell_metadata_filter": "-all",
   "main_language": "python",
   "notebook_metadata_filter": "-all"
  }
 },
 "nbformat": 4,
 "nbformat_minor": 5
}
