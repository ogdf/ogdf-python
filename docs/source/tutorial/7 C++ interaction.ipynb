{
 "cells": [
  {
   "cell_type": "markdown",
   "id": "e3c273c3",
   "metadata": {},
   "source": [
    "In this notebook, we'll show how to gradually migrate Python code to more efficient C++ code, while keeping the interactivity of Jupyter's notebooks. We'll use the \"iterative DFS\" from the Python tutorial as example for the migration, so make sure to have that notebook open for comparison! First, we'll create our example graph (in plain Python for simplicity):"
   ]
  },
  {
   "cell_type": "code",
   "execution_count": null,
   "id": "58539da7",
   "metadata": {},
   "outputs": [],
   "source": [
    "%matplotlib widget\n",
    "from ogdf_python import ogdf, cppinclude\n",
    "\n",
    "cppinclude(\"ogdf/basic/graph_generators/randomized.h\")\n",
    "cppinclude(\"ogdf/layered/SugiyamaLayout.h\")\n",
    "\n",
    "G = ogdf.Graph()\n",
    "ogdf.setSeed(1)\n",
    "ogdf.randomPlanarTriconnectedGraph(G, 10, 20)\n",
    "G2 = ogdf.Graph()\n",
    "ogdf.randomPlanarTriconnectedGraph(G2, 5, 10)\n",
    "G.insert(G2)\n",
    "\n",
    "GA = ogdf.GraphAttributes(G, ogdf.GraphAttributes.all)\n",
    "SL = ogdf.SugiyamaLayout()\n",
    "SL.call(GA)\n",
    "GA.rotateLeft90()\n",
    "GA"
   ]
  },
  {
   "cell_type": "code",
   "execution_count": null,
   "id": "480ec1ab",
   "metadata": {},
   "outputs": [],
   "source": [
    "# There are multiple ways to include C++ code in your Python notebook.\n",
    "# First, we'll have a look at the `cppexec` and `cppdef` functions provided by `ogdf_python`.\n",
    "from ogdf_python import cppexec, cppdef\n",
    "\n",
    "cppexec(\"\"\" // here comes the C++ code as a string!\n",
    "\n",
    "// this is the C++ version of `print(...)`:\n",
    "std::cout << \"Hello World!\" << std::endl;\n",
    "\n",
    "// hint: you can print variables by simply putting them in the chain of `<<`s\n",
    "int myInt = 42;\n",
    "std::cout << \"My number is: \" << myInt << std::endl;\n",
    "\n",
    "\"\"\") # triple-quotes are nice for hassle-free multi-line strings!"
   ]
  },
  {
   "cell_type": "markdown",
   "id": "62cb6209",
   "metadata": {},
   "source": [
    "Note that the value `True` returned by `cppexec` simply means that the code was successfully executed.\n",
    "If you don't want to execute the C++ code right away (like in a `main` method), but just declare variables and functions, `cppdef` is suited better (but both should work the same in most cases).\n",
    "As you might know, C++ is (unlike Python) a statically-typed language and we thus need to declare our variable `myInt` as actually being an `int` before we can use it.\n",
    "\n",
    "Now, lets declare the first variable used by our DFS in C++. In Python this looked like this:\n",
    "```python\n",
    "order = [] # order of visited nodes\n",
    "```\n",
    "The usual C++ type for lists is [`std::vector`](https://en.cppreference.com/w/cpp/container/vector). Again, due to C++ being statically typed, we need to tell the vector which kind of objects it will contain - Graph nodes in this case.\n",
    "Note that we don't need to call a constructor or assign an object instance to the variable, as C++ does that automatically.\n",
    "Manually creating the object similar to what is needed in Python is only done for pointer variables with manual memory management, which is not recommended (and thus not shown here)."
   ]
  },
  {
   "cell_type": "code",
   "execution_count": null,
   "id": "54d0b6f2",
   "metadata": {},
   "outputs": [],
   "source": [
    "cppdef(\"\"\" // declare the first two variables used by the DFS\n",
    "\n",
    "std::vector<ogdf::node> order; // order of visited nodes\n",
    "\n",
    "\"\"\")\n",
    "\n",
    "# variables declared in C++ can be accessed via the `cppyy.gbl` object\n",
    "from ogdf_python import cppyy # or simply `from ogdf_python import *` in the future to get everything at once\n",
    "g = cppyy.gbl # shorten the name a little\n",
    "\n",
    "g.order"
   ]
  },
  {
   "cell_type": "markdown",
   "id": "ba8899f1",
   "metadata": {},
   "source": [
    "That's not a super useful string representation, but that's simply C++. Still, the vector can be used perfectly fine from Python, as you'll see in the cell below. The functions are sometimes a little bit different, check out the [C++ reference](https://en.cppreference.com/w/cpp/container/vector) for details!\n",
    "\n",
    "Note that if you execute above cell multiple times, you'll get an error about the redefinition of the variable `order` - as you would when declaring two variables with the same name in a single C++ file.\n",
    "If you actually want to overwrite the previous declaration, you can use `cppexec`, which is fine with overwriting previous declarations."
   ]
  },
  {
   "cell_type": "code",
   "execution_count": null,
   "id": "5131f188",
   "metadata": {},
   "outputs": [],
   "source": [
    "g.order.push_back(G.nodes[3])\n",
    "\n",
    "print(\"New length:\", len(g.order))\n",
    "print(\"The node is:\", g.order[0])\n",
    "print(\"Is that the right one?\",\n",
    "      g.order[0] == G.nodes[3])\n",
    "\n",
    "g.order.clear()\n",
    "print(\"Is there something left?\", bool(g.order))"
   ]
  },
  {
   "cell_type": "markdown",
   "id": "9f3fa3d9",
   "metadata": {},
   "source": [
    "If you write a lot of C++ code (as we will do in the following), it might be more comfortable to no longer need to wrap everything in strings and function calls and write whole cells with C++ code.\n",
    "You can do that by putting `%%cpp` (for `cppexec(...)`) or `%%cppdef` (for `cppdef(...)`) in the first line of your cell. Note that these non-standard [cell magics](https://ipython.readthedocs.io/en/stable/interactive/magics.html) only work after ogdf-python has been imported.\n",
    "\n",
    "But now back to the problem at hand and the `cppdef` in the previous cell.\n",
    "The `<ogdf::node>` after the class name of `order` is called \"template parameter\".\n",
    "We've actually already seen that kind of thing when we told the C++ `ogdf.NodeArray` used for the indices assigned by the DFS that it will store values of type `int`. So the Python statement `index = ogdf.NodeArray[int](G, -1)` becomes `ogdf.NodeArray<int> dfs_index(G, -1);` in C++:"
   ]
  },
  {
   "cell_type": "code",
   "execution_count": null,
   "id": "df0d6a72",
   "metadata": {},
   "outputs": [],
   "source": [
    "# %%cpp\n",
    "\n",
    "// the whole cell contains C++ code (which will be passed to `cppexec`)\n",
    "\n",
    "ogdf::NodeArray<int> dfs_index(G, -1); // index in order"
   ]
  },
  {
   "cell_type": "markdown",
   "id": "35aae41f",
   "metadata": {},
   "source": [
    "Dang! `error: use of undeclared identifier 'G'` tells us that C++ can't find the variable `G`.\n",
    "This is because, while Python can easily access things declared in C++ via `cppyy.gbl`, the reverse is unfortunately not true.\n",
    "We either need to declare everything we want to use from C++ also in C++, or put everything into C++ functions and pass in the Python objects as function parameters (with the right type declarations on arguments).\n",
    "Here, we have a third alternative: we can pass in the constructor argument later by calling the `NodeArray.init` method (which does the same thing as the constructor) from Python."
   ]
  },
  {
   "cell_type": "code",
   "execution_count": null,
   "id": "71cfa0a2",
   "metadata": {},
   "outputs": [],
   "source": [
    "cppdef(\"\"\"\n",
    "ogdf::NodeArray<int> dfs_index;\n",
    "\"\"\")\n",
    "\n",
    "g.dfs_index.init(G, -1)"
   ]
  },
  {
   "cell_type": "code",
   "execution_count": null,
   "id": "66a94e93",
   "metadata": {},
   "outputs": [],
   "source": [
    "# %%cpp\n",
    "\n",
    "// As we were using the `todo` list as stack, it can also be easily translated to a `vector`:\n",
    "\n",
    "std::vector<std::pair<ogdf::node, ogdf::edge>> todo;"
   ]
  },
  {
   "cell_type": "markdown",
   "id": "2d5f3d9e",
   "metadata": {},
   "source": [
    "Now let's translate the first part of our actual DFS code."
   ]
  },
  {
   "cell_type": "code",
   "execution_count": null,
   "id": "f2bbb87c",
   "metadata": {},
   "outputs": [],
   "source": [
    "# %%cppdef\n",
    "\n",
    "bool find_next(ogdf::Graph& G) { // pass the graph from Python as function argument (by reference!)\n",
    "    for (ogdf::node n : G.nodes) { // foreach needs types or at least `auto` as type\n",
    "        if (dfs_index[n] == -1) {\n",
    "            todo.emplace_back(n, nullptr); // calls the tuple constructor \"inplace\", i.e., without copying\n",
    "            return true;\n",
    "        }\n",
    "    }\n",
    "    return false;\n",
    "}"
   ]
  },
  {
   "cell_type": "markdown",
   "id": "7043fa99",
   "metadata": {},
   "source": [
    "The final mode for including C++ code is by writing it to an external file and including it with `cppinclude`. Note that similar to `cppdef`, this mode doesn't allow redifinitions and thus should only be used for code that doesn't need frequent changes. Still, this is especially useful if you also want to directly re-use the code in a pure C++ environment. The [`%%writefile` cell magic](https://ipython.readthedocs.io/en/stable/interactive/magics.html#cellmagic-writefile) below will create the file for you, which we can `cppinclude` in the cell after."
   ]
  },
  {
   "cell_type": "code",
   "execution_count": null,
   "id": "4aa2ee37",
   "metadata": {},
   "outputs": [],
   "source": [
    "# %%writefile dfs_step.h\n",
    "\n",
    "using namespace ogdf; // stop prefixing everything with ogdf::\n",
    "\n",
    "void dfs_step(GraphAttributes& GA) {// compare this to our previous Python implementation!\n",
    "    // `pred` is the edge via which we found `u`, or nullptr if `u` is a root\n",
    "    edge pred = todo.back().second;\n",
    "    node u = todo.back().first;\n",
    "    \n",
    "    // insert u into order and set its index\n",
    "    dfs_index[u] = order.size();\n",
    "    order.emplace_back(u);\n",
    "    \n",
    "    // update the drawing\n",
    "    GA.label(u) = std::to_string(dfs_index[u]);\n",
    "    if (pred)\n",
    "        GA.strokeColor(pred) = Color(\"#F00\");\n",
    "    // note: in Python, GraphAttributes need square brackets, in C++ round parentheses\n",
    "    \n",
    "    // remove already processed nodes from stack\n",
    "    while (!todo.empty() && dfs_index[todo.back().first] >= 0)\n",
    "        todo.pop_back();\n",
    "        \n",
    "    // add unprocessed neighbors from stack\n",
    "    for (auto adj : u->adjEntries) {\n",
    "        // C++ can often infer automatically variable types by using `auto`\n",
    "        // ogdf::node, edge and adjEntry are actually pointers, so use `->` to access members\n",
    "        auto v = adj->twinNode();\n",
    "        if (dfs_index[v] == -1)\n",
    "            todo.emplace_back(v, adj->theEdge());\n",
    "    }\n",
    "}"
   ]
  },
  {
   "cell_type": "code",
   "execution_count": null,
   "id": "96dd3c76",
   "metadata": {},
   "outputs": [],
   "source": [
    "cppinclude(\"dfs_step.h\")\n",
    "\n",
    "# import the functions and provide the arguments\n",
    "find_next = lambda: g.find_next(G)\n",
    "dfs_step = lambda: g.dfs_step(GA)\n",
    "\n",
    "# The remainder of this notebook stays the same...\n",
    "def dump(): # utility function for easily displaying the current state\n",
    "    print(\"Order\", \", \".join(str(n.index()) for n in g.order))\n",
    "    print(\"Todo\", \", \".join(str(n.index()) for n,p in g.todo))\n",
    "    return GA"
   ]
  },
  {
   "cell_type": "code",
   "execution_count": null,
   "id": "8085714b",
   "metadata": {},
   "outputs": [],
   "source": [
    "# Run this and the following cells one after another to see the DFS progress...\n",
    "find_next()\n",
    "dump()"
   ]
  },
  {
   "cell_type": "code",
   "execution_count": null,
   "id": "c20eb970",
   "metadata": {},
   "outputs": [],
   "source": [
    "dfs_step()\n",
    "dump()"
   ]
  },
  {
   "cell_type": "code",
   "execution_count": null,
   "id": "f78345de",
   "metadata": {},
   "outputs": [],
   "source": [
    "dfs_step()\n",
    "dump()"
   ]
  },
  {
   "cell_type": "code",
   "execution_count": null,
   "id": "3c629879",
   "metadata": {},
   "outputs": [],
   "source": [
    "dfs_step()\n",
    "dump()"
   ]
  },
  {
   "cell_type": "code",
   "execution_count": null,
   "id": "3af3a5db",
   "metadata": {},
   "outputs": [],
   "source": [
    "dfs_step()\n",
    "dump()"
   ]
  },
  {
   "cell_type": "code",
   "execution_count": null,
   "id": "b7e9ebc7",
   "metadata": {},
   "outputs": [],
   "source": [
    "# The widget works as before!\n",
    "\n",
    "# enable the interactive widget\n",
    "# %matplotlib widget\n",
    "import ipywidgets\n",
    "from ogdf_python.matplotlib import MatplotlibGraph\n",
    "\n",
    "w = MatplotlibGraph(GA) # widget for displaying a drawing\n",
    "w_todo = ipywidgets.Label() # text labels\n",
    "w_order = ipywidgets.Label()\n",
    "b_dfs = ipywidgets.Button(description=\"Step\") # interactive buttons\n",
    "b_next = ipywidgets.Button(description=\"Next Component\")\n",
    "b_reset = ipywidgets.Button(description=\"Reset\")\n",
    "\n",
    "def update():\n",
    "    # update all UI elements\n",
    "    w.update_all()\n",
    "    w_todo.value = \"Todo: \" + \", \".join(str(n.index()) for n,p in g.todo)\n",
    "    w_order.value = \"Order: \" + \", \".join(str(n.index()) for n in g.order)\n",
    "    b_dfs.disabled = g.todo.empty()\n",
    "\n",
    "def b_dfs_click(b):\n",
    "    # when clicking the \"Step\" button, execute one DFS step and update the UI\n",
    "    dfs_step()\n",
    "    update()\n",
    "b_dfs.on_click(b_dfs_click) # functions are objects, too!\n",
    "\n",
    "def b_next_click(b):\n",
    "    # continue to the next (or first) connected component\n",
    "    find_next()\n",
    "    update()\n",
    "b_next.on_click(b_next_click)\n",
    "\n",
    "def b_reset_click(b):\n",
    "    # reset the DFS to the initial empty state\n",
    "    g.order.clear()\n",
    "    g.dfs_index.fill(-1)\n",
    "    g.todo.clear()\n",
    "    to_reset = ogdf.GraphAttributes.edgeStyle | ogdf.GraphAttributes.nodeLabel\n",
    "    GA.destroyAttributes(to_reset)\n",
    "    GA.addAttributes(to_reset)\n",
    "    update()\n",
    "b_reset.on_click(b_reset_click)\n",
    "\n",
    "\n",
    "update()\n",
    "# V- and HBoxes arrange multiple UI widgets next to each other\n",
    "# as for G and GA, the UI element on the last line of a cell will be rendered below it\n",
    "ipywidgets.VBox([ipywidgets.HBox([b_dfs, b_next, b_reset]), w_todo, w_order, w.ax.figure.canvas])"
   ]
  }
 ],
 "metadata": {
  "jupytext": {
   "cell_metadata_filter": "-all",
   "main_language": "python",
   "notebook_metadata_filter": "-all"
  }
 },
 "nbformat": 4,
 "nbformat_minor": 5
}
