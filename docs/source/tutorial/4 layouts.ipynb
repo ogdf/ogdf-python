{
 "cells": [
  {
   "cell_type": "code",
   "execution_count": null,
   "id": "f9d01a9f",
   "metadata": {},
   "outputs": [],
   "source": [
    "%matplotlib widget\n",
    "from ogdf_python import ogdf, cppinclude\n",
    "\n",
    "# Let's start out with some bigger graph...\n",
    "\n",
    "cppinclude(\n",
    "    \"ogdf/basic/graph_generators/randomized.h\"\n",
    ")  # provides randomPlanarTriconnectedGraph\n",
    "\n",
    "G = ogdf.Graph()\n",
    "ogdf.setSeed(1)\n",
    "ogdf.randomPlanarTriconnectedGraph(G, 20, 40)\n",
    "GA = ogdf.GraphAttributes(G, ogdf.GraphAttributes.all)\n",
    "\n",
    "G"
   ]
  },
  {
   "cell_type": "markdown",
   "id": "c7a15dc0",
   "metadata": {},
   "source": [
    "OGDF has a lot of automated layout algorithms built-in, check the \"Inheritance diagram for ogdf::LayoutModule\" [here](https://ogdf.github.io/doc/ogdf/classogdf_1_1_layout_module.html) to get an overview.\n",
    "\n",
    "Here are also some examples:"
   ]
  },
  {
   "cell_type": "code",
   "execution_count": null,
   "id": "9f0ff256",
   "metadata": {},
   "outputs": [],
   "source": [
    "cppinclude(\"ogdf/layered/SugiyamaLayout.h\")\n",
    "\n",
    "L = ogdf.SugiyamaLayout()\n",
    "L.call(GA)\n",
    "\n",
    "GA"
   ]
  },
  {
   "cell_type": "code",
   "execution_count": null,
   "id": "6b68efa2",
   "metadata": {},
   "outputs": [],
   "source": [
    "cppinclude(\"ogdf/planarlayout/SchnyderLayout.h\")\n",
    "\n",
    "# not every layout respects planarity or the implied combinatorial embedd\n",
    "L2 = ogdf.SchnyderLayout()\n",
    "L2.call(GA)  # use callFixEmbed if G is already embedded planarly\n",
    "\n",
    "GA"
   ]
  },
  {
   "cell_type": "code",
   "execution_count": null,
   "id": "e3e5ac3a",
   "metadata": {},
   "outputs": [],
   "source": [
    "cppinclude(\"ogdf/energybased/SpringEmbedderFRExact.h\")\n",
    "\n",
    "L3 = ogdf.SpringEmbedderFRExact()  # FR = Fruchterman-Reingold\n",
    "L3.idealEdgeLength(150)  # some LayoutModules have further configuration parameters\n",
    "# check their docs to see what you can tweak\n",
    "L3.call(GA)\n",
    "\n",
    "GA"
   ]
  }
 ],
 "metadata": {
  "jupytext": {
   "cell_metadata_filter": "-all",
   "main_language": "python",
   "notebook_metadata_filter": "-all"
  }
 },
 "nbformat": 4,
 "nbformat_minor": 5
}
