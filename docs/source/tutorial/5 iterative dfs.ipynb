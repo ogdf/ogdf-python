{
 "cells": [
  {
   "cell_type": "code",
   "execution_count": null,
   "id": "f45f91f5",
   "metadata": {},
   "outputs": [],
   "source": [
    "# In this notebook, we are going to implement an undirected depth-first search.\n",
    "# This first cell generates a sufficiently big graph for the DFS to run on.\n",
    "\n",
    "from ogdf_python import ogdf, cppinclude\n",
    "\n",
    "cppinclude(\"ogdf/basic/graph_generators/randomized.h\")\n",
    "cppinclude(\"ogdf/layered/SugiyamaLayout.h\")\n",
    "\n",
    "G = ogdf.Graph()\n",
    "ogdf.setSeed(1)\n",
    "ogdf.randomPlanarTriconnectedGraph(G, 10, 20)\n",
    "G2 = ogdf.Graph()\n",
    "ogdf.randomPlanarTriconnectedGraph(G2, 5, 10)\n",
    "G.insert(G2)\n",
    "\n",
    "GA = ogdf.GraphAttributes(G, ogdf.GraphAttributes.all)\n",
    "SL = ogdf.SugiyamaLayout()\n",
    "SL.call(GA)\n",
    "GA.rotateLeft90()\n",
    "for n in G.nodes:\n",
    "    GA.label[n] = str(n.index())\n",
    "GA"
   ]
  },
  {
   "cell_type": "markdown",
   "id": "6171a2f8",
   "metadata": {},
   "source": [
    "For the DFS we are going to store the output order of nodes in a list, a mapping telling us for every node at which index in the order it was inserted, and a list/queue of tuples consisting of pending nodes, preceded by the edge via which they were encountered.\n",
    "\n",
    "`NodeArray`s (and similarly `Edge`- and `AdjEntryArrays`) label the nodes of the graph that is passed as first constructor argument.\n",
    "`GraphAttributes` uses `Node-` and `EdgeArrays` to store all attributes, but custom `NodeArray` instances allow storing data that `GraphAttributes` can't accomodate.\n",
    "The type of the contained values needs to be passed in square brackets (i.e. as C++ template parameter for the underlying `ogdf::NodeArray<T>`).\n",
    "The second constructor argument is the optional default value for nodes that have no value assigned yet (or have been inserted after creation of the NodeArray).\n",
    "Values can be accessed similarly to python dicts via `index[x]`, but are always present (i.e. no `val in dict` checking, so NodeArrays are more like `defaultdict`s).\n",
    "The main point about `NodeArray`s is that the implementation is much more efficient than python `dict`s!"
   ]
  },
  {
   "cell_type": "code",
   "execution_count": null,
   "id": "e55d0e6d",
   "metadata": {},
   "outputs": [],
   "source": [
    "order = []  # order of visited nodes\n",
    "index = ogdf.NodeArray[int](G, -1)  # index in order\n",
    "todo = []  # pending nodes"
   ]
  },
  {
   "cell_type": "code",
   "execution_count": null,
   "id": "5c7fdc32",
   "metadata": {},
   "outputs": [],
   "source": [
    "help(ogdf.NodeArray)"
   ]
  },
  {
   "cell_type": "code",
   "execution_count": null,
   "id": "b6ff490e",
   "metadata": {},
   "outputs": [],
   "source": [
    "def find_next():\n",
    "    # This method searches for the next unprocessed nodes and queues it.\n",
    "    # We set the source edge to None in the tuple `(None, n)` because\n",
    "    # the root of the DFS tree has no incoming edge.\n",
    "    for n in G.nodes:\n",
    "        if index[n] == -1:\n",
    "            todo.append((None, n))\n",
    "            return True\n",
    "\n",
    "    return False"
   ]
  },
  {
   "cell_type": "code",
   "execution_count": null,
   "id": "589a4f8f",
   "metadata": {},
   "outputs": [],
   "source": [
    "def dfs_step():\n",
    "    pred, u = todo.pop()  # retrieve next tuple and unpack it\n",
    "    # `pred` is the edge via which we found `u`, or None if `u` is a root\n",
    "\n",
    "    # insert u into order and set its index\n",
    "    index[u] = i = len(order)\n",
    "    order.append(u)\n",
    "\n",
    "    # update the drawing\n",
    "    GA.fillColor[u] = ogdf.Color(\"#FC0\")\n",
    "    if pred:\n",
    "        GA.strokeColor[pred] = ogdf.Color(\"#F00\")\n",
    "\n",
    "    # remove already processed nodes from stack\n",
    "    while todo and index[todo[-1][1]] >= 0:\n",
    "        todo.pop()\n",
    "\n",
    "    # add unprocessed neighbors to stack\n",
    "    for adj in u.adjEntries:\n",
    "        v = adj.twinNode()\n",
    "        if adj.isSource() and index[v] == -1:\n",
    "            todo.append((adj.theEdge(), v))"
   ]
  },
  {
   "cell_type": "code",
   "execution_count": null,
   "id": "5c3502a7",
   "metadata": {},
   "outputs": [],
   "source": [
    "def dump():  # utility function for easily displaying the current state\n",
    "    print(\"Order\", \", \".join(str(n.index()) for n in order))\n",
    "    print(\"Todo\", \", \".join(str(n.index()) for p, n in todo))\n",
    "    return GA"
   ]
  },
  {
   "cell_type": "code",
   "execution_count": null,
   "id": "abaa3ba6",
   "metadata": {},
   "outputs": [],
   "source": [
    "# Run this and the following cells one after another to see the DFS progress...\n",
    "find_next()\n",
    "dump()"
   ]
  },
  {
   "cell_type": "code",
   "execution_count": null,
   "id": "d3eda596",
   "metadata": {},
   "outputs": [],
   "source": [
    "dfs_step()\n",
    "dump()"
   ]
  },
  {
   "cell_type": "code",
   "execution_count": null,
   "id": "2c3028b3",
   "metadata": {},
   "outputs": [],
   "source": [
    "dfs_step()\n",
    "dump()"
   ]
  },
  {
   "cell_type": "code",
   "execution_count": null,
   "id": "17b421ee",
   "metadata": {},
   "outputs": [],
   "source": [
    "dfs_step()\n",
    "dump()"
   ]
  },
  {
   "cell_type": "code",
   "execution_count": null,
   "id": "4547f27d",
   "metadata": {},
   "outputs": [],
   "source": [
    "dfs_step()\n",
    "dump()"
   ]
  },
  {
   "cell_type": "code",
   "execution_count": null,
   "id": "98100011",
   "metadata": {},
   "outputs": [],
   "source": [
    "# More comfortable than multiple consecutive cells with the same contents is\n",
    "# a UI for executing the algorithm step-by-step. That's what we'll build here.\n",
    "\n",
    "%matplotlib widget\n",
    "# try having G or GA as last statement in a cell after running the above line!\n",
    "\n",
    "import ipywidgets\n",
    "from ogdf_python.matplotlib import MatplotlibGraph\n",
    "\n",
    "w = MatplotlibGraph(GA)  # widget for displaying a drawing\n",
    "w_todo = ipywidgets.Label()  # text labels\n",
    "w_order = ipywidgets.Label()\n",
    "b_dfs = ipywidgets.Button(description=\"Step\")  # interactive buttons\n",
    "b_next = ipywidgets.Button(description=\"Next Component\")\n",
    "b_reset = ipywidgets.Button(description=\"Reset\")\n",
    "\n",
    "\n",
    "def update():\n",
    "    # update all UI elements\n",
    "    w.update_all()\n",
    "    w_todo.value = \"Todo: \" + \", \".join(str(n.index()) for p, n in todo)\n",
    "    w_order.value = \"Order: \" + \", \".join(str(n.index()) for n in order)\n",
    "    b_dfs.disabled = not todo\n",
    "\n",
    "\n",
    "def b_dfs_click(b):\n",
    "    # when clicking the \"Step\" button, execute one DFS step and update the UI\n",
    "    dfs_step()\n",
    "    update()\n",
    "\n",
    "\n",
    "b_dfs.on_click(b_dfs_click)  # functions are objects, too!\n",
    "\n",
    "\n",
    "def b_next_click(b):\n",
    "    # continue to the next (or first) connected component\n",
    "    find_next()\n",
    "    update()\n",
    "\n",
    "\n",
    "b_next.on_click(b_next_click)\n",
    "\n",
    "\n",
    "def b_reset_click(b):\n",
    "    # reset the DFS to the initial empty state\n",
    "    order.clear()\n",
    "    index.fill(-1)\n",
    "    todo.clear()\n",
    "    to_reset = ogdf.GraphAttributes.edgeStyle | ogdf.GraphAttributes.nodeStyle\n",
    "    GA.destroyAttributes(to_reset)\n",
    "    GA.addAttributes(to_reset)\n",
    "    update()\n",
    "\n",
    "\n",
    "b_reset.on_click(b_reset_click)\n",
    "\n",
    "\n",
    "update()\n",
    "# V- and HBoxes arrange multiple UI widgets next to each other\n",
    "# as for G and GA, the UI element on the last line of a cell will be rendered below it\n",
    "ipywidgets.VBox(\n",
    "    [ipywidgets.HBox([b_dfs, b_next, b_reset]), w_todo, w_order, w.ax.figure.canvas]\n",
    ")"
   ]
  }
 ],
 "metadata": {
  "jupytext": {
   "cell_metadata_filter": "-all",
   "main_language": "python",
   "notebook_metadata_filter": "-all"
  }
 },
 "nbformat": 4,
 "nbformat_minor": 5
}
