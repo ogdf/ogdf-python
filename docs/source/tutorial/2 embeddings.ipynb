{
 "cells": [
  {
   "cell_type": "code",
   "execution_count": null,
   "id": "38461e8c",
   "metadata": {},
   "outputs": [],
   "source": [
    "%matplotlib widget\n",
    "from ogdf_python import ogdf\n",
    "\n",
    "# Let's start with a clique of 4 (pairwise connected) nodes...\n",
    "\n",
    "G = ogdf.Graph()\n",
    "N = [G.newNode() for _ in range(4)]\n",
    "for u in N:\n",
    "    for v in N:\n",
    "        if u.index() < v.index():\n",
    "            G.newEdge(u, v)\n",
    "\n",
    "G"
   ]
  },
  {
   "cell_type": "code",
   "execution_count": null,
   "id": "83fd88df",
   "metadata": {},
   "outputs": [],
   "source": [
    "# We can view the graph as a list of nodes together with a list of edges\n",
    "nodes_str = \", \".join(str(n.index()) for n in G.nodes)\n",
    "print(\"Nodes: [\", nodes_str, \"]\")\n",
    "print(\"Edges:\")\n",
    "for e in G.edges:\n",
    "    print(f\"{e.index()}: {e.source().index()} -> {e.target().index()}\")"
   ]
  },
  {
   "cell_type": "code",
   "execution_count": null,
   "id": "f3118c96",
   "metadata": {},
   "outputs": [],
   "source": [
    "# Alternatively, we can also iterate over the adjacency lists of each node\n",
    "print(\"Adjacencies...\")\n",
    "for u in G.nodes:\n",
    "    print(f\"...of {u}:\")\n",
    "    for adj in u.adjEntries:  # u.adjEntries wraps the edges incident to u\n",
    "        # each adjEntry `adj` has methods for accessing the adjacent node or incident edge\n",
    "        # see also the image below and check out help(adj)\n",
    "        v = adj.twinNode()\n",
    "        e = adj.theEdge()\n",
    "\n",
    "        print(\n",
    "            \" \", e.index(), \": \", u.index(), \"->\" if adj.isSource() else \"<-\", v.index()\n",
    "        )\n",
    "\n",
    "# note that the order of adjEntries is not reflected when displaying a graph by having `G` on a cell's last line\n",
    "# likewise, reordering nodes and edges in the interactive preview doesn't change the order"
   ]
  },
  {
   "cell_type": "markdown",
   "id": "e5d445ac",
   "metadata": {
    "lines_to_next_cell": 2
   },
   "source": [
    "![Visualization of the adjacency lists around two nodes](img/adjList.png)"
   ]
  },
  {
   "cell_type": "code",
   "execution_count": null,
   "id": "09c4f0fd",
   "metadata": {},
   "outputs": [],
   "source": [
    "def dump(o):\n",
    "    # print some infos about `o`\n",
    "    print(f\"{type(o).__name__} '{o.index()}': {o}\")\n",
    "\n",
    "\n",
    "# try to guess the types of the following objects before running this cell!\n",
    "dump(G.nodes.tail())\n",
    "dump(G.nodes.tail().adjEntries.head())\n",
    "dump(G.nodes.tail().adjEntries.head().theEdge())"
   ]
  },
  {
   "cell_type": "code",
   "execution_count": null,
   "id": "775708b6",
   "metadata": {},
   "outputs": [],
   "source": [
    "# is there a planar drawing where the order of incident edges for each node\n",
    "# corresponds to the order given in n.adjEntries?\n",
    "# -> if yes G represents a combinatorial (planar) embedding\n",
    "G.representsCombEmbedding()"
   ]
  },
  {
   "cell_type": "code",
   "execution_count": null,
   "id": "b69126cd",
   "metadata": {},
   "outputs": [],
   "source": [
    "# print the current orders of incident edges\n",
    "# why does this represent no combinatorial embedding?\n",
    "for n in G.nodes:\n",
    "    print(n)"
   ]
  },
  {
   "cell_type": "code",
   "execution_count": null,
   "id": "6c538614",
   "metadata": {},
   "outputs": [],
   "source": [
    "print(N[1])\n",
    "G.reverseAdjEdges(N[1])  # maybe flipping this node helps?\n",
    "print(N[1])\n",
    "print(\"Planar?\", G.representsCombEmbedding())"
   ]
  },
  {
   "cell_type": "code",
   "execution_count": null,
   "id": "eb16e194",
   "metadata": {},
   "outputs": [],
   "source": [
    "G.reverseAdjEdges(N[3])  # but flipping this one too should do the trick!\n",
    "print(N[3])\n",
    "print(\"Planar?\", G.representsCombEmbedding())\n",
    "print(\"\\n\".join(str(n) for n in G.nodes))  # try to find a drawing with these orders"
   ]
  },
  {
   "cell_type": "code",
   "execution_count": null,
   "id": "c806a712",
   "metadata": {},
   "outputs": [],
   "source": [
    "# in the drawing, a white region enclosed by edges is called (inner) face\n",
    "# the white area around the drawing is the outer face\n",
    "\n",
    "# if G represents a combinatorial embedding, we can walk along the edges delimiting a face\n",
    "\n",
    "n = N[0]\n",
    "adj = first = n.adjEntries.head()\n",
    "print(adj)  # we will walk the face to the right of this adjEntry\n",
    "\n",
    "while (\n",
    "    adj.clockwiseFaceSucc() != first\n",
    "):  # proceed clockwise until reaching the beginning again\n",
    "    # clockwiseFaceSucc returns the same object as jumping to the adjEntry on the other side of\n",
    "    # the edge with twin() and continuing on to the predecessing adjEntry around the twin node.\n",
    "    # see also the image below\n",
    "    print(\"next: \", adj.twin(), adj.twin().cyclicPred(), adj.clockwiseFaceSucc())\n",
    "\n",
    "    adj = adj.clockwiseFaceSucc()\n",
    "    print(adj)\n",
    "\n",
    "print(\"next: \", adj.twin(), adj.twin().cyclicPred(), adj.clockwiseFaceSucc())\n",
    "# try to locate this face in your drawing!"
   ]
  },
  {
   "cell_type": "markdown",
   "id": "854b526a",
   "metadata": {
    "lines_to_next_cell": 2
   },
   "source": [
    "![Visualization of the order of adjacencies around a face](img/faceOrder.png)"
   ]
  },
  {
   "cell_type": "code",
   "execution_count": null,
   "id": "a80747db",
   "metadata": {},
   "outputs": [],
   "source": [
    "# instead of manually trying to find a planar embedding, OGDF can do that for us!\n",
    "embed = ogdf.planarEmbed(G)\n",
    "# check out the message of the thrown exception, it should help you fixing the issue ;)\n",
    "\n",
    "print(\"Succeeded in embedding it planarly?\", embed)  # well, that should be easy now...\n",
    "print(\"Is it actually planar now?\", G.representsCombEmbedding())\n",
    "print(\"\\n\".join(str(n) for n in G.nodes))\n",
    "# the embedding is different!?\n",
    "# how does this embedding differ from the one we found?"
   ]
  },
  {
   "cell_type": "code",
   "execution_count": null,
   "id": "28bb9cbe",
   "metadata": {},
   "outputs": [],
   "source": []
  }
 ],
 "metadata": {
  "jupytext": {
   "cell_metadata_filter": "-all",
   "main_language": "python",
   "notebook_metadata_filter": "-all"
  }
 },
 "nbformat": 4,
 "nbformat_minor": 5
}
