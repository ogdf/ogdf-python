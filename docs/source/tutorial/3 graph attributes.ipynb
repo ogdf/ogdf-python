{
 "cells": [
  {
   "cell_type": "code",
   "execution_count": null,
   "id": "5510c0df",
   "metadata": {},
   "outputs": [],
   "source": [
    "%matplotlib widget\n",
    "from ogdf_python import ogdf\n",
    "\n",
    "# Let's start with our planar graph from last lession...\n",
    "\n",
    "G = ogdf.Graph()\n",
    "N = [G.newNode() for _ in range(4)]\n",
    "for u in N:\n",
    "    for v in N:\n",
    "        if u.index() < v.index():\n",
    "            G.newEdge(u, v)\n",
    "G.reverseAdjEdges(N[1])\n",
    "G.reverseAdjEdges(N[3])\n",
    "\n",
    "G"
   ]
  },
  {
   "cell_type": "code",
   "execution_count": null,
   "id": "9d9f94c2",
   "metadata": {},
   "outputs": [],
   "source": [
    "# To create a drawing of G, we have to store some drawing-related attributes about it\n",
    "GA = ogdf.GraphAttributes(G, ogdf.GraphAttributes.all)\n",
    "# GraphAttributes.all means that all available attributes will be enabled, more on that later\n",
    "\n",
    "n = N[0]  # lets put this node at some coordinate and give it a name\n",
    "GA.x[n] = 100\n",
    "GA.y[n] = 100\n",
    "GA.label[n] = \"n0\"\n",
    "\n",
    "GA"
   ]
  },
  {
   "cell_type": "code",
   "execution_count": null,
   "id": "dd3ab586",
   "metadata": {},
   "outputs": [],
   "source": [
    "# the other nodes are still missing coordinates, let's fix that!\n",
    "GA.x[N[1]], GA.y[N[1]] = 0, 0\n",
    "GA.x[N[2]], GA.y[N[2]] = 100, 200\n",
    "GA.x[N[3]], GA.y[N[3]] = 0, 200\n",
    "\n",
    "for n in N:\n",
    "    GA.label[n] = str(n.index())\n",
    "\n",
    "GA"
   ]
  },
  {
   "cell_type": "code",
   "execution_count": null,
   "id": "31020726",
   "metadata": {},
   "outputs": [],
   "source": [
    "# Note: the coordinates in GA do not need to correlate with the current combinatorial embedding!\n",
    "print(\"Planar?\", G.representsCombEmbedding())  # G is planar while GA is not!\n",
    "for n in G.nodes:\n",
    "    print(n)\n",
    "# check where the orders differ!"
   ]
  },
  {
   "cell_type": "code",
   "execution_count": null,
   "id": "9e81d1e7",
   "metadata": {},
   "outputs": [],
   "source": [
    "# one graph can have multiple drawings by having multiple instances of GraphAttributes\n",
    "GA2 = ogdf.GraphAttributes(\n",
    "    GA\n",
    ")  # creates a copy of GA so that we only have to fix a few coordinates\n",
    "GA2.x[N[1]], GA2.y[N[1]] = 100, 0\n",
    "GA2.x[N[2]], GA2.y[N[2]] = 200, 200\n",
    "GA2"
   ]
  },
  {
   "cell_type": "code",
   "execution_count": null,
   "id": "3b36c8aa",
   "metadata": {},
   "outputs": [],
   "source": [
    "GA  # the old, non-planar instance is still there, too!"
   ]
  },
  {
   "cell_type": "code",
   "execution_count": null,
   "id": "e588ea73",
   "metadata": {},
   "outputs": [],
   "source": [
    "help(GA)  # GA has some nice function for modifying the drawings"
   ]
  },
  {
   "cell_type": "markdown",
   "id": "d485a828",
   "metadata": {},
   "source": [
    "The following flags can be passed as second constructor argument to only enable certain attributes:\n",
    "\n",
    "| Bitmask Flag      | Attributes                                                    |\n",
    "|:------------------|:--------------------------------------------------------------|\n",
    "| nodeGraphics      | x, y, width, height, shape                                    |\n",
    "| edgeGraphics      | bends                                                         |\n",
    "| edgeStyle         | strokeColor, strokeType, strokeWidth, strokeColor, strokeType |\n",
    "| nodeStyle         | strokeWidth, fillPattern, fillColor, fillBgColor              |\n",
    "| edgeLabel         | label                                                         |\n",
    "| nodeLabel         | label                                                         |\n",
    "| edgeIntWeight     | intWeight                                                     |\n",
    "| edgeDoubleWeight  | doubleWeight                                                  |\n",
    "| nodeWeight        | weight                                                        |\n",
    "| edgeType          | type                                                          |\n",
    "| nodeType          | type                                                          |\n",
    "| nodeId            | idNode                                                        |\n",
    "| edgeArrow         | arrowType                                                     |\n",
    "| nodeTemplate      | templateNode                                                  |\n",
    "| threeD            | z                                                             |\n",
    "| nodeLabelPosition | xLabel, yLabel, zLabel                                        |\n",
    "\n",
    "The default `ogdf.GraphAttributes.nodeGraphics | ogdf.GraphAttributes.edgeGraphics` thus enables `GA.x, GA.y, GA.width, GA.height, GA.shape` and `GA.bends` (a list of bend point coordinates for edges), but not `GA.label` (which can stores labels for edges and nodes at the same time). Passing `ogdf.GraphAttributes.all` enables all attributes at the cost of a little more RAM."
   ]
  },
  {
   "cell_type": "code",
   "execution_count": null,
   "id": "d3849803",
   "metadata": {},
   "outputs": [],
   "source": [
    "# using GraphIO we can now dump a computer-readable representation of the graph and drawing\n",
    "ogdf.GraphIO.write(GA, \"test.gml\")\n",
    "# to only dump the graph structure without a drawing, you can also pass `G` instead of `GA`\n",
    "\n",
    "# GraphIO can also write human-readable SVG images\n",
    "ogdf.GraphIO.write(GA, \"test.svg\")\n",
    "\n",
    "# and it can also read back the computer-readable data\n",
    "G_r = ogdf.Graph()\n",
    "GA_r = ogdf.GraphAttributes(G_r, ogdf.GraphAttributes.all)\n",
    "ogdf.GraphIO.read(GA_r, G_r, \"test.gml\")\n",
    "GA_r  # see, that's the same drawing!"
   ]
  }
 ],
 "metadata": {
  "jupytext": {
   "cell_metadata_filter": "-all",
   "main_language": "python",
   "notebook_metadata_filter": "-all"
  }
 },
 "nbformat": 4,
 "nbformat_minor": 5
}
