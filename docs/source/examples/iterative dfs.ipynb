{
 "cells": [
  {
   "cell_type": "code",
   "execution_count": null,
   "id": "2f0e6505",
   "metadata": {},
   "outputs": [],
   "source": [
    "# This cell generates a random graph for the DFS to run on.\n",
    "\n",
    "from ogdf_python import ogdf, cppinclude\n",
    "import cppyy\n",
    "\n",
    "cppinclude(\"ogdf/basic/graph_generators/randomized.h\")\n",
    "cppinclude(\"ogdf/layered/SugiyamaLayout.h\")\n",
    "\n",
    "G = ogdf.Graph()\n",
    "ogdf.setSeed(1)\n",
    "ogdf.randomPlanarTriconnectedGraph(G, 10, 20)\n",
    "G2 = ogdf.Graph()\n",
    "ogdf.randomPlanarTriconnectedGraph(G2, 5, 10)\n",
    "G.insert(G2)\n",
    "GA = ogdf.GraphAttributes(G, ogdf.GraphAttributes.all)\n",
    "GA.directed = True\n",
    "\n",
    "SL = ogdf.SugiyamaLayout()\n",
    "SL.call(GA)\n",
    "GA.rotateLeft90()\n",
    "GA"
   ]
  },
  {
   "cell_type": "code",
   "execution_count": null,
   "id": "53ca83cc",
   "metadata": {},
   "outputs": [],
   "source": [
    "order = []  # order of visited nodes\n",
    "index = ogdf.NodeArray[int](G, -1)  # index in order\n",
    "todo = []  # pending nodes"
   ]
  },
  {
   "cell_type": "code",
   "execution_count": null,
   "id": "ef437e30",
   "metadata": {},
   "outputs": [],
   "source": [
    "def find_next():\n",
    "    for n in G.nodes:\n",
    "        if index[n] == -1:\n",
    "            todo.append((None, n))\n",
    "            return True\n",
    "    return False"
   ]
  },
  {
   "cell_type": "code",
   "execution_count": null,
   "id": "ef942fe1",
   "metadata": {},
   "outputs": [],
   "source": [
    "def dfs():\n",
    "    pred, u = todo.pop()\n",
    "\n",
    "    index[u] = i = len(order)\n",
    "    order.append(u)\n",
    "\n",
    "    GA.label[u] = str(i)\n",
    "    if pred:\n",
    "        GA.strokeColor[pred] = ogdf.Color(\"#F00\")\n",
    "\n",
    "    # remove already processed nodes from stack\n",
    "    while todo and index[todo[-1][1]] >= 0:\n",
    "        todo.pop()\n",
    "\n",
    "    # add unprocessed neighbors from stack\n",
    "    for adj in u.adjEntries:\n",
    "        v = adj.twinNode()\n",
    "        if index[v] == -1:\n",
    "            todo.append((adj.theEdge(), v))"
   ]
  },
  {
   "cell_type": "code",
   "execution_count": null,
   "id": "c52cf347",
   "metadata": {},
   "outputs": [],
   "source": [
    "def dump():\n",
    "    print(\"Order\", \", \".join(str(n.index()) for n in order))\n",
    "    print(\"Todo\", \", \".join(str(n.index()) for p, n in todo))\n",
    "    return GA"
   ]
  },
  {
   "cell_type": "code",
   "execution_count": null,
   "id": "a0047d7e",
   "metadata": {},
   "outputs": [],
   "source": [
    "find_next()\n",
    "dump()"
   ]
  },
  {
   "cell_type": "code",
   "execution_count": null,
   "id": "5afbc6ca",
   "metadata": {},
   "outputs": [],
   "source": [
    "dfs()\n",
    "dump()"
   ]
  },
  {
   "cell_type": "code",
   "execution_count": null,
   "id": "e6786983",
   "metadata": {},
   "outputs": [],
   "source": [
    "dfs()\n",
    "dump()"
   ]
  },
  {
   "cell_type": "code",
   "execution_count": null,
   "id": "9c5fb010",
   "metadata": {},
   "outputs": [],
   "source": [
    "dfs()\n",
    "dump()"
   ]
  },
  {
   "cell_type": "code",
   "execution_count": null,
   "id": "0f527952",
   "metadata": {},
   "outputs": [],
   "source": [
    "dfs()\n",
    "dump()"
   ]
  },
  {
   "cell_type": "code",
   "execution_count": null,
   "id": "2a88efb4",
   "metadata": {},
   "outputs": [],
   "source": [
    "%matplotlib widget\n",
    "import ipywidgets\n",
    "from ogdf_python.matplotlib import MatplotlibGraph\n",
    "\n",
    "\n",
    "w_GA = MatplotlibGraph(GA)\n",
    "w_todo = ipywidgets.Label()\n",
    "w_order = ipywidgets.Label()\n",
    "b_dfs = ipywidgets.Button(description=\"Step\")\n",
    "b_next = ipywidgets.Button(description=\"Next Component\")\n",
    "b_reset = ipywidgets.Button(description=\"Reset\")\n",
    "\n",
    "\n",
    "def update():\n",
    "    w_GA.update_all()\n",
    "    w_todo.value = \"Todo: \" + \", \".join(str(n.index()) for p, n in todo)\n",
    "    w_order.value = \"Order: \" + \", \".join(str(n.index()) for n in order)\n",
    "    b_dfs.disabled = not todo\n",
    "\n",
    "\n",
    "def b_dfs_click(*args):\n",
    "    dfs()\n",
    "    update()\n",
    "\n",
    "\n",
    "b_dfs.on_click(b_dfs_click)\n",
    "\n",
    "\n",
    "def b_next_click(*args):\n",
    "    find_next()\n",
    "    update()\n",
    "\n",
    "\n",
    "b_next.on_click(b_next_click)\n",
    "\n",
    "\n",
    "def b_reset_click(*args):\n",
    "    order.clear()\n",
    "    index.fill(-1)\n",
    "    todo.clear()\n",
    "    to_reset = ogdf.GraphAttributes.edgeStyle | ogdf.GraphAttributes.nodeLabel\n",
    "    GA.destroyAttributes(to_reset)\n",
    "    GA.addAttributes(to_reset)\n",
    "    update()\n",
    "\n",
    "\n",
    "b_reset.on_click(b_reset_click)\n",
    "\n",
    "update()\n",
    "ipywidgets.VBox(\n",
    "    [ipywidgets.HBox([b_dfs, b_next, b_reset]), w_todo, w_order, w_GA.ax.figure.canvas]\n",
    ")"
   ]
  }
 ],
 "metadata": {
  "jupytext": {
   "cell_metadata_filter": "-all",
   "main_language": "python",
   "notebook_metadata_filter": "-all"
  }
 },
 "nbformat": 4,
 "nbformat_minor": 5
}
