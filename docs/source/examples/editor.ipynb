{
 "cells": [
  {
   "cell_type": "code",
   "execution_count": null,
   "id": "caf21dd4",
   "metadata": {},
   "outputs": [],
   "source": [
    "%matplotlib widget\n",
    "from ogdf_python import *\n",
    "from ogdf_python.matplotlib import *\n",
    "import matplotlib.pyplot as plt\n",
    "\n",
    "cppinclude(\"ogdf/basic/graph_generators/randomized.h\")\n",
    "cppinclude(\"ogdf/layered/SugiyamaLayout.h\")\n",
    "\n",
    "G = ogdf.Graph()\n",
    "ogdf.setSeed(1)\n",
    "ogdf.randomPlanarTriconnectedGraph(G, 20, 40)\n",
    "GA = ogdf.GraphAttributes(G, ogdf.GraphAttributes.all)\n",
    "\n",
    "for n in G.nodes:\n",
    "    GA.label[n] = \"N%s\" % n.index()\n",
    "\n",
    "SL = ogdf.SugiyamaLayout()\n",
    "SL.call(GA)"
   ]
  },
  {
   "cell_type": "code",
   "execution_count": null,
   "id": "9049d458",
   "metadata": {},
   "outputs": [],
   "source": [
    "GE = GraphEditorLayout(GA)\n",
    "display(GE)\n",
    "# click so select a node or edge\n",
    "# [del] deletes the selected object\n",
    "# [ctrl]+click on a node while another node is selected adds an edge\n",
    "# double click on the background adds a node"
   ]
  }
 ],
 "metadata": {
  "jupytext": {
   "cell_metadata_filter": "-all",
   "main_language": "python",
   "notebook_metadata_filter": "-all"
  }
 },
 "nbformat": 4,
 "nbformat_minor": 5
}
