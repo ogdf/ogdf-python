{
 "cells": [
  {
   "cell_type": "code",
   "execution_count": null,
   "id": "ef2643e8",
   "metadata": {},
   "outputs": [],
   "source": [
    "# uncomment if you didn't set this globally:\n",
    "# %env OGDF_BUILD_DIR=~/ogdf/build-debug\n",
    "from ogdf_python import ogdf, cppinclude"
   ]
  },
  {
   "cell_type": "code",
   "execution_count": null,
   "id": "7015b8c0",
   "metadata": {},
   "outputs": [],
   "source": [
    "cppinclude(\"ogdf/layered/SugiyamaLayout.h\")\n",
    "cppinclude(\"ogdf/layered/MedianHeuristic.h\")\n",
    "cppinclude(\"ogdf/layered/OptimalHierarchyLayout.h\")\n",
    "cppinclude(\"ogdf/layered/OptimalRanking.h\")\n",
    "\n",
    "SL = ogdf.SugiyamaLayout()\n",
    "r = ogdf.OptimalRanking()\n",
    "r.__python_owns__ = False # ogdf modules take ownership of objects, conflicting with cppyy clean-up\n",
    "SL.setRanking(r)\n",
    "h = ogdf.MedianHeuristic()\n",
    "h.__python_owns__ = False\n",
    "SL.setCrossMin(h)\n",
    "\n",
    "ohl = ogdf.OptimalHierarchyLayout()\n",
    "ohl.__python_owns__ = False\n",
    "ohl.layerDistance(30.0)\n",
    "ohl.nodeDistance(25.0)\n",
    "ohl.weightBalancing(0.8)\n",
    "SL.setLayout(ohl)"
   ]
  },
  {
   "cell_type": "code",
   "execution_count": null,
   "id": "01941b46",
   "metadata": {},
   "outputs": [],
   "source": [
    "for i in range(5):\n",
    "    CGA = CG = G = None # deletion order is important when overwriting parents of dependant objects\n",
    "    G = ogdf.Graph()\n",
    "    CG = ogdf.ClusterGraph(G)\n",
    "    CGA = ogdf.ClusterGraphAttributes(CG, ogdf.ClusterGraphAttributes.all)"
   ]
  }
 ],
 "metadata": {
  "jupytext": {
   "cell_metadata_filter": "-all",
   "main_language": "python",
   "notebook_metadata_filter": "-all"
  }
 },
 "nbformat": 4,
 "nbformat_minor": 5
}
