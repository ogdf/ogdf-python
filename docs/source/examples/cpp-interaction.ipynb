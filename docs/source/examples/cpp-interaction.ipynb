{
 "cells": [
  {
   "cell_type": "code",
   "execution_count": null,
   "id": "a7c055b8",
   "metadata": {},
   "outputs": [],
   "source": [
    "%matplotlib widget\n",
    "from ogdf_python import *\n",
    "from cppyy import gbl as cpp"
   ]
  },
  {
   "cell_type": "code",
   "execution_count": null,
   "id": "d98a74f9",
   "metadata": {},
   "outputs": [],
   "source": [
    "%%cpp\n",
    "\n",
    "std::cout << \"Hello World!\" << std::endl;\n",
    "std::cerr << \"Hello Error!\" << std::endl;\n",
    "std::cout << \"Hello All!\\n\";\n",
    "        \n",
    "ogdf::Graph G;"
   ]
  },
  {
   "cell_type": "code",
   "execution_count": null,
   "id": "59fdaf2b",
   "metadata": {},
   "outputs": [],
   "source": [
    "G = cpp.G\n",
    "GA = ogdf.GraphAttributes(G, ogdf.GraphAttributes.all)\n",
    "GA.destroyAttributes(ogdf.GraphAttributes.nodeId)\n",
    "\n",
    "cppinclude(\"ogdf/basic/graph_generators/deterministic.h\")\n",
    "width = height = 3\n",
    "ogdf.gridGraph(G, width, height, True, False)\n",
    "\n",
    "for n in G.nodes:\n",
    "    GA.label[n] = str(n.index())\n",
    "    GA.x[n] = (n.index() % width) * 50 \n",
    "    GA.y[n] = (n.index() // height) * 50\n",
    "\n",
    "middle = G.numberOfNodes() // 2\n",
    "GA.width[G.nodes[middle]] = 40\n",
    "GA.height[G.nodes[middle]] = 40\n",
    "    \n",
    "GA"
   ]
  },
  {
   "cell_type": "code",
   "execution_count": null,
   "id": "78e2c830",
   "metadata": {},
   "outputs": [],
   "source": [
    "%%cpp\n",
    "\n",
    "std::cout << \"The graph has \" << G.numberOfNodes() << \" nodes\\n\";"
   ]
  },
  {
   "cell_type": "code",
   "execution_count": null,
   "id": "842151c4",
   "metadata": {
    "pycharm": {
     "name": "#%%\n"
    }
   },
   "outputs": [],
   "source": [
    "%%cppdef\n",
    "\n",
    "// implemented in C++ for efficiency\n",
    "int avg_width(const ogdf::GraphAttributes &GA) {\n",
    "    int sum = 0;\n",
    "    for (auto n : GA.constGraph().nodes) {\n",
    "        sum += GA.width(n);\n",
    "    }\n",
    "    return sum / GA.constGraph().numberOfNodes();\n",
    "}"
   ]
  },
  {
   "cell_type": "code",
   "execution_count": null,
   "id": "7e1722e0",
   "metadata": {},
   "outputs": [],
   "source": [
    "print(\"The node widths are\", GA.width())\n",
    "print(\"The average width is\", cpp.avg_width(GA)) # call your own C++ functions from python\n",
    "\n",
    "dict(zip(G.nodes, GA.width()))"
   ]
  },
  {
   "cell_type": "code",
   "execution_count": null,
   "id": "de738c3a",
   "metadata": {},
   "outputs": [],
   "source": [
    "print(\"Deleting node number %s:\" % middle, repr(G.nodes[middle]))\n",
    "G.delNode(G.nodes[middle])\n",
    "print(\"Node number %s now is:\" % middle, G.nodes[middle])\n",
    "print(\"The last node is:\", G.nodes[-1])\n",
    "print(\"The node with the biggest ID is:\", G.nodes.byid(G.maxNodeIndex()))\n",
    "\n",
    "print(\"The line in the middle is edge\", repr(G.searchEdge(\n",
    "    G.nodes.byid(width * (height // 2)), \n",
    "    G.nodes.byid(width * (height // 2) + width - 1))))\n",
    "\n",
    "GA"
   ]
  },
  {
   "cell_type": "code",
   "execution_count": null,
   "id": "0f1b390e",
   "metadata": {},
   "outputs": [],
   "source": [
    "# we have python docs and also the doxygen docs linked from there\n",
    "help(G)"
   ]
  }
 ],
 "metadata": {
  "jupytext": {
   "cell_metadata_filter": "pycharm,-all",
   "main_language": "python",
   "notebook_metadata_filter": "-all"
  }
 },
 "nbformat": 4,
 "nbformat_minor": 5
}
