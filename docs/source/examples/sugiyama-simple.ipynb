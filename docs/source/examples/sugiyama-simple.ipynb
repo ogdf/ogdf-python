{
 "cells": [
  {
   "cell_type": "code",
   "execution_count": null,
   "id": "0fb09588",
   "metadata": {
    "editable": true,
    "slideshow": {
     "slide_type": ""
    }
   },
   "outputs": [],
   "source": [
    "%matplotlib widget\n",
    "# uncomment if you didn't install OGDF globally:\n",
    "# %env OGDF_BUILD_DIR=~/ogdf/build-debug\n",
    "from ogdf_python import *\n",
    "cppinclude(\"ogdf/basic/graph_generators/randomized.h\")\n",
    "cppinclude(\"ogdf/layered/SugiyamaLayout.h\")\n",
    "\n",
    "G = ogdf.Graph()\n",
    "ogdf.setSeed(1)\n",
    "ogdf.randomPlanarTriconnectedGraph(G, 20, 40)\n",
    "GA = ogdf.GraphAttributes(G, ogdf.GraphAttributes.all)\n",
    "\n",
    "for n in G.nodes:\n",
    "    GA.label[n] = \"N%s\" % n.index()\n",
    "\n",
    "SL = ogdf.SugiyamaLayout()\n",
    "SL.call(GA)\n",
    "ogdf.GraphIO.drawSVG(GA, \"sugiyama-simple.svg\")\n",
    "GA"
   ]
  }
 ],
 "metadata": {
  "jupytext": {
   "cell_metadata_filter": "slideshow,editable,-all",
   "main_language": "python",
   "notebook_metadata_filter": "-all"
  }
 },
 "nbformat": 4,
 "nbformat_minor": 5
}
