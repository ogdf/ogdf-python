{
 "cells": [
  {
   "cell_type": "code",
   "execution_count": null,
   "id": "fc83d1e8",
   "metadata": {},
   "outputs": [],
   "source": [
    "# %env OGDF_BUILD_DIR=~/ogdf/build-debug\n",
    "# uncomment if you didn't set this globally\n",
    "from ogdf_python import ogdf, cppinclude\n",
    "\n",
    "cppinclude(\"ogdf/basic/graph_generators/randomized.h\")\n",
    "cppinclude(\"ogdf/layered/SugiyamaLayout.h\")\n",
    "\n",
    "G = ogdf.Graph()\n",
    "ogdf.setSeed(1)\n",
    "ogdf.randomPlanarTriconnectedGraph(G, 20, 40)\n",
    "GA = ogdf.GraphAttributes(G, ogdf.GraphAttributes.all)\n",
    "GA.directed = False\n",
    "\n",
    "SL = ogdf.SugiyamaLayout()\n",
    "SL.call(GA)\n",
    "\n",
    "FIRST = 0\n",
    "LAST = -1"
   ]
  },
  {
   "cell_type": "code",
   "execution_count": null,
   "id": "0aaccda6",
   "metadata": {},
   "outputs": [],
   "source": [
    "def search(G, node1, GA=None, mode=FIRST):\n",
    "    todo = [node1]\n",
    "    order = ogdf.NodeArray[int](G, -1)\n",
    "    count = 0\n",
    "    while len(todo) > 0:\n",
    "        cur = todo.pop(mode)\n",
    "        if order[cur] >= 0:\n",
    "            continue\n",
    "            \n",
    "        order[cur] = count\n",
    "        if GA:\n",
    "            GA.label[cur] = str(count)\n",
    "        count += 1\n",
    "        \n",
    "        for adj in cur.adjEntries:\n",
    "            if order[adj.twinNode()] < 0:\n",
    "                todo.append(adj.twinNode())\n",
    "        \n",
    "        yield todo\n",
    "    return count"
   ]
  },
  {
   "cell_type": "code",
   "execution_count": null,
   "id": "f82748ea",
   "metadata": {},
   "outputs": [],
   "source": [
    "def dfs(G):\n",
    "    discovery = ogdf.NodeArray[int](G, -1)\n",
    "    finish = ogdf.NodeArray[int](G, -1)\n",
    "    predecessor = ogdf.NodeArray[ogdf.node](G, None)\n",
    "    \n",
    "    time = 0\n",
    "    \n",
    "    def dfs_visit(u):\n",
    "        nonlocal time\n",
    "\n",
    "        time += 1\n",
    "        discovery[u] = time\n",
    "        yield u, discovery[u], finish[u]\n",
    "        \n",
    "        for adj in u.adjEntries:\n",
    "            v = adj.twinNode()\n",
    "            if discovery[node] < 0:\n",
    "                predecessor[v] = u\n",
    "                yield from dfs_visit(v)\n",
    "\n",
    "        time += 1\n",
    "        finish[u] = time\n",
    "        yield u, discovery[u], finish[u]\n",
    "    \n",
    "    for node in G.nodes:\n",
    "        if discovery[node] < 0:\n",
    "            yield from dfs_visit(node)"
   ]
  },
  {
   "cell_type": "code",
   "execution_count": null,
   "id": "91bc86fa",
   "metadata": {},
   "outputs": [],
   "source": [
    "it = search(G, G.nodes[0], GA, LAST)\n",
    "GA"
   ]
  },
  {
   "cell_type": "code",
   "execution_count": null,
   "id": "98e5a61c",
   "metadata": {},
   "outputs": [],
   "source": [
    "try:\n",
    "    print([n.index() for n in next(it)])\n",
    "except StopIteration as e:\n",
    "    print(\"done\", e.args)\n",
    "GA"
   ]
  }
 ],
 "metadata": {
  "jupytext": {
   "cell_metadata_filter": "-all",
   "main_language": "python",
   "notebook_metadata_filter": "-all"
  }
 },
 "nbformat": 4,
 "nbformat_minor": 5
}
