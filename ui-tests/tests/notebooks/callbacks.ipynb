{
 "cells": [
  {
   "cell_type": "code",
   "execution_count": null,
   "id": "d199e111-e0c4-43a5-a0e2-671f145e546b",
   "metadata": {},
   "outputs": [],
   "source": [
    "#%matplotlib widget"
   ]
  },
  {
   "cell_type": "code",
   "execution_count": null,
   "id": "24b97317-676a-426c-9d24-95f4f5e2ad9c",
   "metadata": {},
   "outputs": [],
   "source": [
    "import gc\n",
    "gc.disable()"
   ]
  },
  {
   "cell_type": "code",
   "execution_count": null,
   "id": "ed02b9e0-70a3-4b91-8b4c-99fdc2524abe",
   "metadata": {},
   "outputs": [],
   "source": [
    "from IPython.core.interactiveshell import InteractiveShell\n",
    "\n",
    "InteractiveShell.instance().display_formatter.formatters['image/svg+xml'].enabled = False"
   ]
  },
  {
   "cell_type": "code",
   "execution_count": null,
   "id": "3f0a91b05224dfd",
   "metadata": {},
   "outputs": [],
   "source": [
    "from ogdf_python import *"
   ]
  },
  {
   "cell_type": "code",
   "execution_count": null,
   "id": "235a4d01-0edf-42f3-bace-980951996531",
   "metadata": {},
   "outputs": [],
   "source": [
    "G = ogdf.Graph()\n",
    "GA = ogdf.GraphAttributes(G, ogdf.GraphAttributes.all)\n",
    "\n",
    "N1 = G.newNode()\n",
    "N2 = G.newNode()\n",
    "N3 = G.newNode()\n",
    "\n",
    "E1 = G.newEdge(N1, N2)\n",
    "E2 = G.newEdge(N1, N3)\n",
    "E3 = G.newEdge(N2, N3)\n",
    "\n",
    "GA.x[N1], GA.y[N1] = 0, 0\n",
    "GA.x[N2], GA.y[N2] = 100, 0\n",
    "GA.x[N3], GA.y[N3] = 0, 100\n",
    "GA.bends[E3].emplaceBack(50, 60)\n",
    "\n",
    "GA"
   ]
  },
  {
   "cell_type": "code",
   "execution_count": null,
   "id": "338d75d0-1b1f-479b-ab90-a8d80d2fde99",
   "metadata": {},
   "outputs": [],
   "source": [
    "N4 = G.newNode()\n",
    "GA.x[N4], GA.y[N4] = 100, 100\n",
    "GA"
   ]
  },
  {
   "cell_type": "code",
   "execution_count": null,
   "id": "0a703706-649f-48dd-bf35-db3b8d83542e",
   "metadata": {},
   "outputs": [],
   "source": [
    "E3 = G.newEdge(N4, N3)\n",
    "GA"
   ]
  },
  {
   "cell_type": "code",
   "execution_count": null,
   "id": "479c9bf6-f536-4ea0-ae04-5827bf373e65",
   "metadata": {},
   "outputs": [],
   "source": [
    "G.delEdge(E1)\n",
    "GA"
   ]
  },
  {
   "cell_type": "code",
   "execution_count": null,
   "id": "3a941233-f81b-415f-b292-7ea246b9a329",
   "metadata": {},
   "outputs": [],
   "source": [
    "G.delNode(N3)\n",
    "GA"
   ]
  },
  {
   "cell_type": "code",
   "execution_count": null,
   "id": "8dcd5961-262c-4e2b-9a09-043cf9bb53e5",
   "metadata": {},
   "outputs": [],
   "source": [
    "G.clear()\n",
    "\n",
    "n = G.newNode()\n",
    "GA.x[n] = GA.y[n] = 15\n",
    "GA.label[n] = \"N\"\n",
    "\n",
    "m = G.newNode()\n",
    "GA.x[m], GA.y[m] = 50, 15\n",
    "GA.label[m] = \"M\"\n",
    "\n",
    "G.newEdge(n, m)\n",
    "GA"
   ]
  },
  {
   "cell_type": "code",
   "execution_count": null,
   "id": "e5c8135d-c336-4b80-a7ec-05714e2d2a89",
   "metadata": {},
   "outputs": [],
   "source": [
    "gc.collect()\n",
    "gc.enable()\n",
    "gc.collect()\n",
    "print(\"All good!\")"
   ]
  }
 ],
 "metadata": {
  "kernelspec": {
   "display_name": "Python 3 (ipykernel)",
   "language": "python",
   "name": "python3"
  },
  "language_info": {
   "codemirror_mode": {
    "name": "ipython",
    "version": 3
   },
   "file_extension": ".py",
   "mimetype": "text/x-python",
   "name": "python",
   "nbconvert_exporter": "python",
   "pygments_lexer": "ipython3",
   "version": "3.10.12"
  }
 },
 "nbformat": 4,
 "nbformat_minor": 5
}
